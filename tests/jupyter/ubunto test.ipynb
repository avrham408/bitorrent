{
 "cells": [
  {
   "cell_type": "code",
   "execution_count": 1,
   "metadata": {},
   "outputs": [],
   "source": [
    "from torrent_file_parser import TorrentFile\n",
    "import requests\n",
    "from bencoding import Encoder, Decoder\n",
    "from hashlib import sha1\n",
    "from urllib.parse import urlencode\n",
    "import random\n",
    "ubunto_path = 'files/file3.torrent'"
   ]
  },
  {
   "cell_type": "code",
   "execution_count": 2,
   "metadata": {},
   "outputs": [],
   "source": [
    "with open(ubunto_path, 'rb') as f:\n",
    "    meta_data = Decoder(f.read()).decode()\n",
    "    \n",
    "\n",
    "info =  Encoder(meta_data[b'info']).encode()\n",
    "info_hash = sha1(info).digest()\n",
    "\n",
    "torrent_object = TorrentFile(ubunto_path)\n"
   ]
  },
  {
   "cell_type": "code",
   "execution_count": 3,
   "metadata": {},
   "outputs": [
    {
     "data": {
      "text/plain": [
       "1048576"
      ]
     },
     "execution_count": 3,
     "metadata": {},
     "output_type": "execute_result"
    }
   ],
   "source": [
    "torrent_object.piece_length"
   ]
  },
  {
   "cell_type": "code",
   "execution_count": 4,
   "metadata": {},
   "outputs": [],
   "source": [
    "url = torrent_object.announce \n",
    "params = {\n",
    "'info_hash': info_hash,\n",
    "'peer_id': '-PC0001-' + ''.join([str(random.randint(0, 9)) for _ in range(12)]),\n",
    "'port': 6889,\n",
    "'uploaded': 0,\n",
    "'downloaded': 0,\n",
    "'left':1048576,\n",
    "'compact': 1,\n",
    "'event' : 'started'\n",
    "}\n"
   ]
  },
  {
   "cell_type": "code",
   "execution_count": 5,
   "metadata": {},
   "outputs": [],
   "source": [
    "url = url + '?' + urlencode(params)"
   ]
  },
  {
   "cell_type": "code",
   "execution_count": 6,
   "metadata": {},
   "outputs": [
    {
     "data": {
      "text/plain": [
       "'https://torrent.ubuntu.com/announce?info_hash=%E2F%7C%BF%02%11%92%C2A6%7B%89%220%DC%1E%05%C0X%0E&peer_id=-PC0001-255557671004&port=6889&uploaded=0&downloaded=0&left=1048576&compact=1&event=started'"
      ]
     },
     "execution_count": 6,
     "metadata": {},
     "output_type": "execute_result"
    }
   ],
   "source": [
    "url"
   ]
  },
  {
   "cell_type": "code",
   "execution_count": 7,
   "metadata": {},
   "outputs": [],
   "source": [
    "res = requests.get(url)"
   ]
  },
  {
   "cell_type": "code",
   "execution_count": 8,
   "metadata": {
    "scrolled": true
   },
   "outputs": [
    {
     "data": {
      "text/plain": [
       "200"
      ]
     },
     "execution_count": 8,
     "metadata": {},
     "output_type": "execute_result"
    }
   ],
   "source": [
    "res.status_code"
   ]
  },
  {
   "cell_type": "code",
   "execution_count": 9,
   "metadata": {},
   "outputs": [
    {
     "data": {
      "text/plain": [
       "b'd8:completei3582e10:incompletei1209e8:intervali1800e5:peers300:\\x86\\xf9\\x88pt\\xd1\\xb9\\x94\\x03\\xa2\\xd0\\xbd]N\\xa6\\rr\\x96\\xbc\\xea\\xe0m\\xc8\\xd5\\xb9k/\\x9e\\xda\\xc1%\\xdd\\xc5+\\xc8\\xd5\\xd43\\x89\\x16\\xc8\\xd5_\\xfbI\\xec\\xc8\\xd5\\x86\\xf9\\x88pt\\xd1\\xb2\\xa4\\x98\\xeb\\xc8\\xd5J\\\\\\xd6%\\xc8\\xd52\\x1e\\xa3r\\xceU%\\xbb\\x06[\\xaf\\xc8XS\\xca\\xe0\\xc6,\\\\\"\\x81S\\xc8\\xd5\\xb9-\\xc3\\xb0N\\xd5S\\x96\\t\\x10\\xc8\\xd5P_G\\x9cS\\xef\\xb2\\xcc\\x04a\\x91\\x06h\\xf5O\\xd5\\x1a\\xe5\\xacS(\\x16\\xe2\\xd3{y\\xa1\\xec\\xc8\\xd6\\x9eE\\xf6\\xac\\xc7A\\xadK\\x1f\\xd0\\xc8\\xd5\\x97P\\xa8\\xba\\xc8\\xd5\\xb9\\x9c\\xaf[\\x91\\x10O\\x94\\x873\\xc8\\xfab\\x01;\\x86\\xcc\\x0e\\xb9\\x9d\\xf5d\\xd3\\xb3W\\x10=\\xb0\\xc8\\xd5_\\xfc\\xbcX\\xc8\\xd5L\\n\\x95\\x87\\xc8\\xd5C(\\x052\\xc8\\xd5\\xb9-\\xc3\\xa2N\\x84\\xd5\\x98\\xb4\\x05\\x9c\\r_\\xdf\\xe8\\x90\\xc8\\xd5l6Cs\\xd4\\xadA\\xb7\\x853\\xc8\\xd5\\xb9\\x18z\\x94\\xdb]N\\\\\\xb4\\xa5\\xc9;^\\x15\\xf5+\\xc5\\xdf\\x88#\\xd4u\\xc8\\xd53\\x0f\\xa8\\x15\\xc7\\xeb\\xd5 \\x1ak\\xc3PR\\xd4\\x94)\\xfe*l\\xaf\\xeb\\x82\\xcf\\x07][}\\x84\\xc8\\xd5FpJg\\xc8\\xd5\\x18\\x962-\\xc8\\xd5Z[\\xebI\\xc8\\xd5e'"
      ]
     },
     "execution_count": 9,
     "metadata": {},
     "output_type": "execute_result"
    }
   ],
   "source": [
    "res.content"
   ]
  },
  {
   "cell_type": "code",
   "execution_count": null,
   "metadata": {},
   "outputs": [],
   "source": []
  }
 ],
 "metadata": {
  "kernelspec": {
   "display_name": "Python 3",
   "language": "python",
   "name": "python3"
  },
  "language_info": {
   "codemirror_mode": {
    "name": "ipython",
    "version": 3
   },
   "file_extension": ".py",
   "mimetype": "text/x-python",
   "name": "python",
   "nbconvert_exporter": "python",
   "pygments_lexer": "ipython3",
   "version": "3.6.8"
  }
 },
 "nbformat": 4,
 "nbformat_minor": 2
}
