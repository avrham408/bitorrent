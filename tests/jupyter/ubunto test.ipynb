{
 "cells": [
  {
   "cell_type": "code",
   "execution_count": 1,
   "metadata": {},
   "outputs": [],
   "source": [
    "from torrent.torrent_file import generate_torrent_file\n",
    "from torrent.tracker import http_request, create_url_for_http_tracker\n",
    "from torrent.peer_manager import Peer_manager\n",
    "ubunto_path = '../test_files/file2.torrent'\n",
    "torrent_file = generate_torrent_file(ubunto_path)"
   ]
  },
  {
   "cell_type": "code",
   "execution_count": 2,
   "metadata": {},
   "outputs": [
    {
     "data": {
      "text/plain": [
       "[tracker(udp:tracker.openbittorrent.com:80/announce),\n",
       " tracker(udp:tracker.1337x.org:80/announce),\n",
       " tracker(http:inferno.demonoid.me:3414/announce),\n",
       " tracker(udp:tracker.yify-torrents.com:443/announce),\n",
       " tracker(udp:tracker.ccc.de:80/announce),\n",
       " tracker(udp:tracker.publicbt.com:80/announce),\n",
       " tracker(udp:exodus.desync.com:6969),\n",
       " tracker(http:tracker.yify-torrents.com:80/announce)]"
      ]
     },
     "execution_count": 2,
     "metadata": {},
     "output_type": "execute_result"
    }
   ],
   "source": [
    "peer_manager = Peer_manager()\n",
    "torrent_file.trackers"
   ]
  },
  {
   "cell_type": "code",
   "execution_count": 3,
   "metadata": {},
   "outputs": [
    {
     "name": "stdout",
     "output_type": "stream",
     "text": [
      "2020-03-28 04:38:18,701 - torrent.tracker - DEBUG - 208 start http tracker request\t\n",
      "2020-03-28 04:38:18,712 - urllib3.connectionpool - DEBUG - 225 Starting new HTTP connection (1): inferno.demonoid.me:3414\t\n"
     ]
    }
   ],
   "source": [
    "th = []\n",
    "for tracker in torrent_file.trackers:\n",
    "    if tracker.tracker_type == 'http' or tracker.tracker_type == 'https':\n",
    "        url = create_url_for_http_tracker(torrent_file, tracker, torrent_file.length)\n",
    "        th.append(http_request(url, peer_manager))"
   ]
  },
  {
   "cell_type": "code",
   "execution_count": 4,
   "metadata": {},
   "outputs": [
    {
     "data": {
      "text/plain": [
       "[<Thread(Thread-4, started 139911218317056)>,\n",
       " <Thread(Thread-5, started 139911209924352)>]"
      ]
     },
     "execution_count": 4,
     "metadata": {},
     "output_type": "execute_result"
    },
    {
     "name": "stdout",
     "output_type": "stream",
     "text": [
      "2020-03-28 04:38:18,712 - torrent.tracker - DEBUG - 208 start http tracker request\t\n",
      "2020-03-28 04:38:18,732 - urllib3.connectionpool - DEBUG - 225 Starting new HTTP connection (1): tracker.yify-torrents.com:80\t\n"
     ]
    }
   ],
   "source": [
    "th"
   ]
  },
  {
   "cell_type": "code",
   "execution_count": 7,
   "metadata": {},
   "outputs": [
    {
     "data": {
      "text/plain": [
       "True"
      ]
     },
     "execution_count": 7,
     "metadata": {},
     "output_type": "execute_result"
    }
   ],
   "source": [
    "th[1].is_alive()"
   ]
  },
  {
   "cell_type": "code",
   "execution_count": null,
   "metadata": {},
   "outputs": [],
   "source": []
  }
 ],
 "metadata": {
  "kernelspec": {
   "display_name": "Python 3",
   "language": "python",
   "name": "python3"
  },
  "language_info": {
   "codemirror_mode": {
    "name": "ipython",
    "version": 3
   },
   "file_extension": ".py",
   "mimetype": "text/x-python",
   "name": "python",
   "nbconvert_exporter": "python",
   "pygments_lexer": "ipython3",
   "version": "3.6.8"
  }
 },
 "nbformat": 4,
 "nbformat_minor": 2
}
