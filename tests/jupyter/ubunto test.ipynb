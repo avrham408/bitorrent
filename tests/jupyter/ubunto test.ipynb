{
 "cells": [
  {
   "cell_type": "code",
   "execution_count": 1,
   "metadata": {},
   "outputs": [],
   "source": [
    "from torrent.torrent_file import generate_torrent_file\n",
    "from torrent.tracker import http_request, create_url_for_http_tracker, udp_request, tracker_manager\n",
    "from torrent.peer_manager import Peer_manager\n",
    "PATH = '../test_files/file.torrent'\n",
    "torrent_file = generate_torrent_file(PATH)\n",
    "peer_manager = Peer_manager()\n"
   ]
  },
  {
   "cell_type": "code",
   "execution_count": 2,
   "metadata": {},
   "outputs": [
    {
     "name": "stdout",
     "output_type": "stream",
     "text": [
      "2020-03-28 17:06:51,674 - torrent.tracker - DEBUG - 34 try to connect tracker(udp:tracker.coppersurfer.tk:6969/announce)\t\n",
      "2020-03-28 17:06:51,680 - torrent.tracker - DEBUG - 37 connect to socket succssed\t\n",
      "2020-03-28 17:06:51,691 - torrent.tracker - DEBUG - 34 try to connect tracker(udp:p4p.arenabg.com:1337)\t\n",
      "2020-03-28 17:06:51,700 - torrent.tracker - DEBUG - 37 connect to socket succssed\t\n",
      "2020-03-28 17:06:51,709 - torrent.tracker - DEBUG - 34 try to connect tracker(udp:tracker.internetwarriors.net:1337)\t\n",
      "2020-03-28 17:06:51,714 - torrent.tracker - DEBUG - 37 connect to socket succssed\t\n",
      "2020-03-28 17:06:51,692 - root - DEBUG - 48 start connection response\t\n",
      "2020-03-28 17:06:51,724 - root - DEBUG - 113 start get action code\t\n",
      "2020-03-28 17:06:51,715 - torrent.tracker - DEBUG - 34 try to connect tracker(udp:9.rarbg.com:2710/announce)\t\n",
      "2020-03-28 17:06:51,736 - torrent.tracker - DEBUG - 37 connect to socket succssed\t\n",
      "2020-03-28 17:06:51,713 - torrent.tracker - DEBUG - 34 try to connect tracker(udp:tracker.opentrackr.org:1337/announce)\t\n",
      "2020-03-28 17:06:51,750 - torrent.tracker - DEBUG - 37 connect to socket succssed\t\n",
      "2020-03-28 17:06:51,751 - root - DEBUG - 48 start connection response\t\n",
      "2020-03-28 17:06:51,765 - root - DEBUG - 113 start get action code\t\n",
      "2020-03-28 17:06:51,765 - root - DEBUG - 48 start connection response\t\n",
      "2020-03-28 17:06:51,773 - root - DEBUG - 113 start get action code\t\n",
      "2020-03-28 17:06:51,764 - root - DEBUG - 48 start connection response\t\n",
      "2020-03-28 17:06:51,783 - root - DEBUG - 113 start get action code\t\n",
      "2020-03-28 17:06:51,779 - root - DEBUG - 48 start connection response\t\n",
      "2020-03-28 17:06:51,791 - root - DEBUG - 113 start get action code\t\n",
      "2020-03-28 17:06:51,925 - root - DEBUG - 117 connet code got from server\t\n",
      "2020-03-28 17:06:51,926 - root - INFO - 74 round 1 for tracker(udp:tracker.opentrackr.org:1337/announce)\t\n",
      "2020-03-28 17:06:51,925 - root - DEBUG - 117 connet code got from server\t\n",
      "2020-03-28 17:06:51,931 - root - INFO - 74 round 1 for tracker(udp:p4p.arenabg.com:1337)\t\n",
      "2020-03-28 17:06:51,931 - root - DEBUG - 113 start get action code\t\n",
      "2020-03-28 17:06:51,925 - root - DEBUG - 117 connet code got from server\t\n",
      "2020-03-28 17:06:51,943 - root - INFO - 74 round 1 for tracker(udp:9.rarbg.com:2710/announce)\t\n",
      "2020-03-28 17:06:51,937 - root - DEBUG - 113 start get action code\t\n",
      "2020-03-28 17:06:51,953 - root - DEBUG - 113 start get action code\t\n",
      "2020-03-28 17:06:52,029 - root - DEBUG - 126 announce code got from server\t\n",
      "2020-03-28 17:06:52,031 - root - INFO - 106 peers add to peer_manager and go to sleep for 1691 seconds\t\n",
      "2020-03-28 17:06:52,131 - root - DEBUG - 126 announce code got from server\t\n",
      "2020-03-28 17:06:52,132 - root - INFO - 106 peers add to peer_manager and go to sleep for 1800 seconds\t\n",
      "2020-03-28 17:06:52,132 - root - DEBUG - 126 announce code got from server\t\n",
      "2020-03-28 17:06:52,136 - root - INFO - 106 peers add to peer_manager and go to sleep for 1706 seconds\t\n",
      "2020-03-28 17:40:38,358 - root - INFO - 74 round 2 for tracker(udp:tracker.opentrackr.org:1337/announce)\t\n",
      "2020-03-28 17:40:38,391 - root - DEBUG - 113 start get action code\t\n",
      "2020-03-28 17:40:38,653 - root - DEBUG - 126 announce code got from server\t\n",
      "2020-03-28 17:40:38,657 - root - INFO - 106 peers add to peer_manager and go to sleep for 1655 seconds\t\n",
      "2020-03-28 17:40:53,386 - root - INFO - 74 round 2 for tracker(udp:p4p.arenabg.com:1337)\t\n",
      "2020-03-28 17:40:53,398 - root - DEBUG - 113 start get action code\t\n",
      "2020-03-28 17:40:53,607 - root - DEBUG - 126 announce code got from server\t\n",
      "2020-03-28 17:40:53,613 - root - INFO - 106 peers add to peer_manager and go to sleep for 1810 seconds\t\n",
      "2020-03-28 17:42:27,362 - root - INFO - 74 round 2 for tracker(udp:9.rarbg.com:2710/announce)\t\n",
      "2020-03-28 17:42:27,395 - root - DEBUG - 113 start get action code\t\n",
      "2020-03-28 18:08:13,694 - root - INFO - 74 round 3 for tracker(udp:tracker.opentrackr.org:1337/announce)\t\n",
      "2020-03-28 18:08:13,711 - root - DEBUG - 113 start get action code\t\n",
      "2020-03-28 18:08:13,791 - root - DEBUG - 126 announce code got from server\t\n",
      "2020-03-28 18:08:13,792 - root - INFO - 106 peers add to peer_manager and go to sleep for 1966 seconds\t\n",
      "2020-03-28 18:11:03,630 - root - INFO - 74 round 3 for tracker(udp:p4p.arenabg.com:1337)\t\n",
      "2020-03-28 18:11:03,649 - root - DEBUG - 113 start get action code\t\n",
      "2020-03-28 18:11:03,830 - root - DEBUG - 126 announce code got from server\t\n",
      "2020-03-28 18:11:03,831 - root - INFO - 106 peers add to peer_manager and go to sleep for 1712 seconds\t\n"
     ]
    }
   ],
   "source": [
    "th = tracker_manager(torrent_file, peer_manager)"
   ]
  },
  {
   "cell_type": "code",
   "execution_count": 10,
   "metadata": {},
   "outputs": [
    {
     "data": {
      "text/plain": [
       "['__class__',\n",
       " '__delattr__',\n",
       " '__dict__',\n",
       " '__dir__',\n",
       " '__doc__',\n",
       " '__eq__',\n",
       " '__format__',\n",
       " '__ge__',\n",
       " '__getattribute__',\n",
       " '__gt__',\n",
       " '__hash__',\n",
       " '__init__',\n",
       " '__init_subclass__',\n",
       " '__le__',\n",
       " '__lt__',\n",
       " '__module__',\n",
       " '__ne__',\n",
       " '__new__',\n",
       " '__reduce__',\n",
       " '__reduce_ex__',\n",
       " '__repr__',\n",
       " '__setattr__',\n",
       " '__sizeof__',\n",
       " '__str__',\n",
       " '__subclasshook__',\n",
       " '__weakref__',\n",
       " '_args',\n",
       " '_bootstrap',\n",
       " '_bootstrap_inner',\n",
       " '_daemonic',\n",
       " '_delete',\n",
       " '_exc_info',\n",
       " '_ident',\n",
       " '_initialized',\n",
       " '_is_stopped',\n",
       " '_kwargs',\n",
       " '_name',\n",
       " '_reset_internal_locks',\n",
       " '_set_ident',\n",
       " '_set_tstate_lock',\n",
       " '_started',\n",
       " '_stderr',\n",
       " '_stop',\n",
       " '_target',\n",
       " '_tstate_lock',\n",
       " '_wait_for_tstate_lock',\n",
       " 'daemon',\n",
       " 'getName',\n",
       " 'ident',\n",
       " 'isAlive',\n",
       " 'isDaemon',\n",
       " 'is_alive',\n",
       " 'join',\n",
       " 'name',\n",
       " 'result_queue',\n",
       " 'run',\n",
       " 'setDaemon',\n",
       " 'setName',\n",
       " 'start']"
      ]
     },
     "execution_count": 10,
     "metadata": {},
     "output_type": "execute_result"
    }
   ],
   "source": [
    "dir(x)"
   ]
  },
  {
   "cell_type": "code",
   "execution_count": null,
   "metadata": {},
   "outputs": [],
   "source": []
  }
 ],
 "metadata": {
  "kernelspec": {
   "display_name": "Python 3",
   "language": "python",
   "name": "python3"
  },
  "language_info": {
   "codemirror_mode": {
    "name": "ipython",
    "version": 3
   },
   "file_extension": ".py",
   "mimetype": "text/x-python",
   "name": "python",
   "nbconvert_exporter": "python",
   "pygments_lexer": "ipython3",
   "version": "3.6.8"
  }
 },
 "nbformat": 4,
 "nbformat_minor": 2
}
