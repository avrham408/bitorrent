{
 "cells": [
  {
   "cell_type": "markdown",
   "metadata": {},
   "source": [
    "## import and stuff"
   ]
  },
  {
   "cell_type": "code",
   "execution_count": 1,
   "metadata": {},
   "outputs": [],
   "source": [
    "from torrent_file_parser import TorrentFile\n",
    "from bencoding import Encoder, Decoder\n",
    "from hashlib import sha1\n",
    "import socket\n",
    "from random import randrange\n",
    "import struct\n",
    "from urllib.parse import urlsplit\n",
    "from threading import Thread\n",
    "from queue import Queue\n",
    "\n",
    "torrent_file = 'files/file2.torrent'"
   ]
  },
  {
   "cell_type": "code",
   "execution_count": 2,
   "metadata": {},
   "outputs": [],
   "source": [
    "def run_async(f, daemon=False):\n",
    "    def wrapped_f(q, *args, **kwargs):\n",
    "        ret = f(*args, **kwargs)\n",
    "        q.put(ret)\n",
    "    \n",
    "    def wrap(*args, **kwargs):\n",
    "        q = Queue()\n",
    "        t = Thread(target=wrapped_f, args=(q, ) + args, kwargs=kwargs)\n",
    "        t.daemon = daemon\n",
    "        t.start()\n",
    "        t.result_queue = q\n",
    "        return t\n",
    "    \n",
    "    return wrap"
   ]
  },
  {
   "cell_type": "markdown",
   "metadata": {},
   "source": [
    "# read meta_data from the file"
   ]
  },
  {
   "cell_type": "code",
   "execution_count": 3,
   "metadata": {},
   "outputs": [],
   "source": [
    "with open(torrent_file, 'rb') as f:\n",
    "    meta_data = Decoder(f.read()).decode()\n",
    "    \n",
    "\n",
    "info =  Encoder(meta_data[b'info']).encode()\n",
    "info_hash = sha1(info).digest()\n",
    "\n",
    "torrent_object = TorrentFile(torrent_file)\n",
    "trackers = torrent_object.announce_list"
   ]
  },
  {
   "cell_type": "code",
   "execution_count": 4,
   "metadata": {},
   "outputs": [],
   "source": [
    "def create_req_struct(protocol_id=0X41727101980, transcation_id=randrange(0, 65535), action=0):\n",
    "    #protocol_id is const, transcation id  is random num , action 0 = connect\n",
    "    try:\n",
    "        req_struct = struct.pack(\">QLL\", protocol_id, action, transcation_id)\n",
    "    except Excpetion:\n",
    "        raise Excpetion(\"the req struct creation failed\")\n",
    "    return req_struct\n"
   ]
  },
  {
   "cell_type": "code",
   "execution_count": 5,
   "metadata": {},
   "outputs": [],
   "source": [
    "def parse_udp_url(url):\n",
    "    try:\n",
    "        scheme, netlok, params, path, _  = urlsplit(url)\n",
    "    except Exception:\n",
    "        raise Exception(f\"{url} parse url failes\")\n",
    "    if scheme != 'udp':\n",
    "        raise Excpetion(\"the url not relevant for udp tracker request\")\n",
    "    url, port = netlok.split(':')\n",
    "    try:\n",
    "        port = int(port)\n",
    "    except Excpetion:\n",
    "        raise Excpetion(\"the port number have problem\")\n",
    "    return url, port"
   ]
  },
  {
   "cell_type": "code",
   "execution_count": 6,
   "metadata": {},
   "outputs": [],
   "source": [
    "def parse_res(packet):\n",
    "    try:\n",
    "        req_response = struct.unpack(\">LLQ\", packet)\n",
    "    except Excpetion:\n",
    "        raise Excption(\"the unpack connect response failed\")\n",
    "    return req_response"
   ]
  },
  {
   "cell_type": "code",
   "execution_count": 7,
   "metadata": {},
   "outputs": [],
   "source": [
    "#create connect req\n",
    "@run_async\n",
    "def tracker_connect_req(sock, url):\n",
    "    #the funcion ask for socket connection on udp from udp tracket url \n",
    "    req_struct = create_req_struct()\n",
    "    address = parse_udp_url(url)\n",
    "    sock.sendto(req_struct, address)\n",
    "    res = sock.recv(16)\n",
    "    return parse_res(res)\n",
    "    \n"
   ]
  },
  {
   "cell_type": "code",
   "execution_count": 16,
   "metadata": {},
   "outputs": [
    {
     "data": {
      "text/plain": [
       "'http://inferno.demonoid.me:3414/announce'"
      ]
     },
     "execution_count": 16,
     "metadata": {},
     "output_type": "execute_result"
    }
   ],
   "source": [
    "trackers[0]"
   ]
  },
  {
   "cell_type": "code",
   "execution_count": 8,
   "metadata": {},
   "outputs": [],
   "source": [
    "@run_async\n",
    "def udp_tracker_req(torrent_file):\n",
    "    pass"
   ]
  },
  {
   "cell_type": "code",
   "execution_count": null,
   "metadata": {},
   "outputs": [],
   "source": []
  },
  {
   "cell_type": "code",
   "execution_count": 9,
   "metadata": {},
   "outputs": [],
   "source": [
    "@run_async\n",
    "def http_tracker_connection(url, info_hash):\n",
    "    "
   ]
  },
  {
   "cell_type": "code",
   "execution_count": 13,
   "metadata": {},
   "outputs": [
    {
     "data": {
      "text/plain": [
       "(0, 46280, 2786357492193302238)"
      ]
     },
     "execution_count": 13,
     "metadata": {},
     "output_type": "execute_result"
    }
   ],
   "source": []
  },
  {
   "cell_type": "code",
   "execution_count": 12,
   "metadata": {},
   "outputs": [
    {
     "data": {
      "text/plain": [
       "NoneType"
      ]
     },
     "execution_count": 12,
     "metadata": {},
     "output_type": "execute_result"
    }
   ],
   "source": []
  },
  {
   "cell_type": "raw",
   "metadata": {
    "scrolled": true
   },
   "source": [
    "packet = struct(\">QLL\", (res[2], 1, randrange(0, 65535), info_hash, ))"
   ]
  },
  {
   "cell_type": "code",
   "execution_count": null,
   "metadata": {},
   "outputs": [],
   "source": []
  }
 ],
 "metadata": {
  "kernelspec": {
   "display_name": "Python 3",
   "language": "python",
   "name": "python3"
  },
  "language_info": {
   "codemirror_mode": {
    "name": "ipython",
    "version": 3
   },
   "file_extension": ".py",
   "mimetype": "text/x-python",
   "name": "python",
   "nbconvert_exporter": "python",
   "pygments_lexer": "ipython3",
   "version": "3.6.8"
  }
 },
 "nbformat": 4,
 "nbformat_minor": 2
}
