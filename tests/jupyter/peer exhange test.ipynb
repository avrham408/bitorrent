{
 "cells": [
  {
   "cell_type": "code",
   "execution_count": 3,
   "metadata": {},
   "outputs": [],
   "source": [
    "from torrent.torrent_file import generate_torrent_file, read_file, decode_raw_data, get_trackers, create_tracker\n",
    "from urllib.parse import urlparse\n",
    "from torrent.tracker import request_manager, http_request, create_url_for_http_tracker, parse_tracker_res\n",
    "from torrent.bencoding import Decoder, Encoder\n",
    "from time import sleep\n",
    "from random import randint, choice\n",
    "import logging\n",
    "import struct\n",
    "import string\n",
    "from torrent.utilities import run_async\n",
    "import socket\n",
    "\n",
    "path = '../test_files/file3.torrent'\n",
    "logger = logging.getLogger(__name__)\n",
    "BLOCK_SIZE = 2 ** 11\n"
   ]
  },
  {
   "cell_type": "code",
   "execution_count": 2,
   "metadata": {},
   "outputs": [
    {
     "name": "stdout",
     "output_type": "stream",
     "text": [
      "2020-03-24 17:50:28,284 - __main__ - INFO - 3 http req start ;\n",
      "2020-03-24 17:50:28,300 - __main__ - INFO - 8 http queue create ;\n",
      "2020-03-24 17:50:29,507 - __main__ - INFO - 19 peer and res loaded ;\n"
     ]
    }
   ],
   "source": [
    "torrent_file = generate_torrent_file(path)\n",
    "l = []\n",
    "logger.info(\"http req start\")\n",
    "for tracker in torrent_file.trackers:\n",
    "    url = create_request_dict(torrent_file, tracker, torrent_file.length)\n",
    "    l.append(http_request(url))\n",
    "    \n",
    "logger.info(\"http queue create\")\n",
    "while True:\n",
    "    out = False\n",
    "    for t in l:\n",
    "        if t.isAlive() == False:\n",
    "            res = t.result_queue.get()\n",
    "            peers = parse_tracker_res(res)\n",
    "            out = True\n",
    "    if out:\n",
    "        break\n",
    "    sleep(0.1)\n",
    "logger.info(\"peer and res loaded\")\n"
   ]
  },
  {
   "cell_type": "code",
   "execution_count": 3,
   "metadata": {},
   "outputs": [],
   "source": [
    "def open_socket_tcp(peer_data):\n",
    "    my_socket = socket.socket(socket.AF_INET, socket.SOCK_STREAM)\n",
    "    try:\n",
    "        my_socket.connect(peer_data)\n",
    "    except Exception as e:\n",
    "        logger.info(\"connect error\", exc_info=True)\n",
    "        return None\n",
    "    return my_socket"
   ]
  },
  {
   "cell_type": "code",
   "execution_count": 4,
   "metadata": {},
   "outputs": [],
   "source": [
    "def handshake(torrent_file):\n",
    "    const_protocol = 'BitTorrent protocol'.encode('utf-8')\n",
    "    info_hash = torrent_file.info_hash\n",
    "    peer_id = torrent_file.id.encode('utf-8')\n",
    "    return struct.pack('>B19s8x20s20s', 19, const_protocol, info_hash, peer_id)\n",
    "\n",
    "def keep_alive():\n",
    "    return b'0000'\n",
    "\n",
    "def interested_message():\n",
    "    return struct.pack('>IB', 1, 2) \n",
    "\n",
    "def request_message(piece_index, block_offset, block_size):\n",
    "    return struct.pack('>IBIII', 13, 6, piece_index, block_offset, block_size)\n",
    "\n"
   ]
  },
  {
   "cell_type": "code",
   "execution_count": 5,
   "metadata": {},
   "outputs": [],
   "source": [
    "def parse_message(res, message_id_expected):\n",
    "    # -1 is handshaking\n",
    "    # \n",
    "    # 5 is bitfield \n",
    "    \n",
    "    \n",
    "    if message_id_expected != 7:\n",
    "        logger.info(res)\n",
    "    if message_id_expected == -1:\n",
    "        if len(res) != 68:\n",
    "            logger.info('you didnt got handshake')\n",
    "            return False\n",
    "        else:\n",
    "            return True\n",
    "    \n",
    "    if message_id_expected == 1:\n",
    "        if res == b'':\n",
    "            logger.info('intersted message answered with nothing')\n",
    "            return False\n",
    "        elif res[4] == 0:\n",
    "            logger.info('the peer choke')\n",
    "            return False\n",
    "        elif res[4] == 1:\n",
    "            return True\n",
    "        else:\n",
    "            logger.info(f\"somthing got worng with intersted message - '{res}' got from peer\")\n",
    "            return False\n",
    "              \n",
    "    if message_id_expected == 5:\n",
    "        if res == b'':\n",
    "            logger.info('peer not hold any piece from file')\n",
    "            return False\n",
    "        if res[4] != 5:\n",
    "            return False\n",
    "        return True\n",
    "    \n",
    "    if message_id_expected == 7:\n",
    "        if res == b'':\n",
    "            logger.info('peer request failed and got empty response')\n",
    "            return False\n",
    "        elif res[4] != 7: \n",
    "            logger.info(f\"the message id is not 7 but you got - '{res[4]}'\")\n",
    "            return False\n",
    "        logger.info(\"response got ok\")\n",
    "        return res\n",
    "            \n",
    "    \n",
    "    \n",
    "    \n",
    "            "
   ]
  },
  {
   "cell_type": "code",
   "execution_count": 6,
   "metadata": {},
   "outputs": [],
   "source": [
    "@run_async\n",
    "def peer_manager(torrent_file, peer_id):\n",
    "    #Conncet \n",
    "    peer_socket = open_socket_tcp(peer_id)\n",
    "    if not peer_socket:\n",
    "        logger.info('connect peer fail')\n",
    "        return False\n",
    "    \n",
    "    logger.info(\"connection succeed\")\n",
    "    #Handshake\n",
    "    peer_socket.send(handshake(torrent_file))\n",
    "    res = parse_message(peer_socket.recv(68), -1 )\n",
    "    if not res:\n",
    "        logger.info('handshake peer failed')\n",
    "        return False\n",
    "    logger.info('handshake succeeded')\n",
    "    \n",
    "    #Bitfield\n",
    "    sleep(0.1)\n",
    "    res = parse_message(peer_socket.recv(2048), 5)\n",
    "    if not res:\n",
    "        logger.info('bitfield failed')\n",
    "        return False\n",
    "    logger.info('bitfield succeeded')\n",
    "    \n",
    "    #Interested\n",
    "    peer_socket.send(interested_message())\n",
    "    res = parse_message(peer_socket.recv(5), 1)\n",
    "    if not res:\n",
    "        logger.info('peer choke or got nothing')\n",
    "        return False\n",
    "    logger.info('peer unchoked')\n",
    "    \n",
    "#Request Piece\n",
    "    offset = 0\n",
    "    block_data = []\n",
    "    while torrent_file.piece_length >= offset: \n",
    "        peer_socket.send(request_message(1, offset, BLOCK_SIZE))\n",
    "        res = parse_message(peer_socket.recv(int(BLOCK_SIZE *1.12)), 7)\n",
    "        if not res:\n",
    "            logger.info(\"request Piece failed\")\n",
    "            return block_data\n",
    "        else:\n",
    "            block_data.append(res)\n",
    "            offset += BLOCK_SIZE\n",
    "    \n",
    "    logger.info(\"all piece is here\")\n",
    "    return block_data\n"
   ]
  },
  {
   "cell_type": "markdown",
   "metadata": {},
   "source": [
    "# orgnize test"
   ]
  },
  {
   "cell_type": "code",
   "execution_count": 7,
   "metadata": {},
   "outputs": [],
   "source": [
    "def handshake(torrent_file):\n",
    "    const_protocol = 'BitTorrent protocol'.encode('utf-8')\n",
    "    info_hash = torrent_file.info_hash\n",
    "    peer_id = torrent_file.id.encode('utf-8')\n",
    "    return struct.pack('>B19s8x20s20s', 19, const_protocol, info_hash, peer_id)\n",
    "\n",
    "def keep_alive():\n",
    "    return b'0000'\n",
    "\n",
    "def interested_message():\n",
    "    return struct.pack('>IB', 1, 2) \n",
    "\n",
    "def request_message(piece_index, block_offset, block_size):\n",
    "    return struct.pack('>IBIII', 13, 6, piece_index, block_offset, block_size)"
   ]
  },
  {
   "cell_type": "code",
   "execution_count": 9,
   "metadata": {},
   "outputs": [],
   "source": [
    "def get_message_type(res):\n",
    "    \"\"\"\n",
    "        False empty \n",
    "        -1 - keep alive\n",
    "        0 - choke\n",
    "        1 - unchoke\n",
    "        2 - interested\n",
    "        3 - uninterested\n",
    "        4 - have\n",
    "        5 - bitfield (what i got my brother)\n",
    "        6 - request\n",
    "        7 - piece\n",
    "        8 - cancel\n",
    "    \"\"\"\n",
    "\n",
    "    #empty\n",
    "    if res == b'':\n",
    "        logger.info('we got empty response')\n",
    "        return None, None\n",
    "    #keep alive\n",
    "    elif len(res) == 4 and res == b'0000':\n",
    "        return -1, 0\n",
    "    #message type\n",
    "    elif res[4] in range(0,8):\n",
    "        parsed_res = struct.unpack(\">IB\", res)\n",
    "        if not parse_message:\n",
    "            logger.info(\"parsed_res got broken\")\n",
    "            return None, None\n",
    "        return parsed_res\n",
    "    else:\n",
    "        logger.info(f\"we got for response {res[4]}\")\n",
    "        return None, None\n",
    "\n",
    "\n",
    "\n",
    "def valid_res_hand_shake(res):\n",
    "    if len(res) != 68:\n",
    "        logger.info('you didnt got handshake')\n",
    "        return False\n",
    "    else:\n",
    "        return True\n",
    "\n",
    "1024\n",
    "1024\n",
    "1024\n",
    "1024"
   ]
  },
  {
   "cell_type": "code",
   "execution_count": 10,
   "metadata": {},
   "outputs": [],
   "source": [
    "#@run_async\n",
    "def peer_manager(torrent_file, peer_id):\n",
    "    #Conncet \n",
    "    peer_socket = open_socket_tcp(peer_id)\n",
    "    if not peer_socket:\n",
    "        logger.info('connect peer fail')\n",
    "        return False\n",
    "    logger.info(\"connection succeed\")\n",
    "    \n",
    "    #Handshake\n",
    "    peer_socket.send(handshake(torrent_file))\n",
    "    res = valid_res_hand_shake(peer_socket.recv(68))\n",
    "    if not res:\n",
    "        logger.info('handshake peer failed')\n",
    "        return False\n",
    "    logger.info('handshake succeeded')\n",
    "    \n",
    "    #Bitfield\n",
    "    size, message_type = get_message_type(peer_socket.recv(5))\n",
    "    if message_type == 5:\n",
    "        bitfiled_data = peer_socket.recv(size + 10)\n",
    "        if len(bitfiled_data) + 1 != size:\n",
    "            #TODO handle check what pieces peer has\n",
    "            logger.info(f\"bitfiled size is {size} and we got {len(bitfiled_data)}\")\n",
    "    else:\n",
    "        logger.info(f\"in bitfield we got '{message_type}' insted of 5\")\n",
    "    \n",
    "    #Interested\n",
    "    peer_socket.send(interested_message())\n",
    "    size, message_type = get_message_type(peer_socket.recv(5))\n",
    "    if message_type == 0:\n",
    "        logger.info('peer choke')\n",
    "        return False\n",
    "    elif message_type == None:\n",
    "        return False\n",
    "    elif message_type == 1:\n",
    "        logger.info('peer unchoke')\n",
    "    \n",
    "    #Request Piece\n",
    "    offset = 0\n",
    "    chunks = []\n",
    "    counter = 0\n",
    "    while torrent_file.piece_length >= offset:\n",
    "        #request \n",
    "        peer_socket.send(request_message(7, offset, BLOCK_SIZE))\n",
    "        meta_message = peer_socket.recv(5)\n",
    "        if not meta_message:\n",
    "            logger.info(f\"we got nothing from request in rount {counter}\")\n",
    "            break\n",
    "        size, message_type = get_message_type(meta_message) \n",
    "        if message_type != 7:\n",
    "            logger.info(f\"in request we got '{message_type}' insted of 7\")\n",
    "            break\n",
    "        if not size or not message_type:\n",
    "            logger.info(f\"somthing get worng in {counter} request {meta_message} got from peer\")\n",
    "            \n",
    "        #chunks\n",
    "        res = peer_socket.recv(size)\n",
    "        if res == b'':\n",
    "            logger.info(\"we got empty data\")\n",
    "            break\n",
    "            \n",
    "        chunk_index, chunk_offset = struct.unpack(f\">II\", res[0:8])\n",
    "        offset += BLOCK_SIZE\n",
    "        chunks.append(res[8:len(res)])\n",
    "        \n",
    "                    \n",
    "        logger.info(f\"request {counter} get ok\")\n",
    "        counter += 1\n",
    "    return chunks\n",
    "  \n",
    "\n",
    "        \n",
    "\n",
    "\n",
    "    \n"
   ]
  },
  {
   "cell_type": "code",
   "execution_count": 40,
   "metadata": {},
   "outputs": [],
   "source": [
    "peer = peers[5]"
   ]
  },
  {
   "cell_type": "code",
   "execution_count": 41,
   "metadata": {},
   "outputs": [
    {
     "ename": "KeyboardInterrupt",
     "evalue": "",
     "output_type": "error",
     "traceback": [
      "\u001b[0;31m---------------------------------------------------------------------------\u001b[0m",
      "\u001b[0;31mKeyboardInterrupt\u001b[0m                         Traceback (most recent call last)",
      "\u001b[0;32m<ipython-input-41-33adee437027>\u001b[0m in \u001b[0;36m<module>\u001b[0;34m\u001b[0m\n\u001b[0;32m----> 1\u001b[0;31m \u001b[0mdata\u001b[0m \u001b[0;34m=\u001b[0m \u001b[0mpeer_manager\u001b[0m\u001b[0;34m(\u001b[0m\u001b[0mtorrent_file\u001b[0m\u001b[0;34m,\u001b[0m \u001b[0mpeer\u001b[0m\u001b[0;34m)\u001b[0m\u001b[0;34m\u001b[0m\u001b[0;34m\u001b[0m\u001b[0m\n\u001b[0m",
      "\u001b[0;32m<ipython-input-10-337202e3d027>\u001b[0m in \u001b[0;36mpeer_manager\u001b[0;34m(torrent_file, peer_id)\u001b[0m\n\u001b[1;32m      2\u001b[0m \u001b[0;32mdef\u001b[0m \u001b[0mpeer_manager\u001b[0m\u001b[0;34m(\u001b[0m\u001b[0mtorrent_file\u001b[0m\u001b[0;34m,\u001b[0m \u001b[0mpeer_id\u001b[0m\u001b[0;34m)\u001b[0m\u001b[0;34m:\u001b[0m\u001b[0;34m\u001b[0m\u001b[0;34m\u001b[0m\u001b[0m\n\u001b[1;32m      3\u001b[0m     \u001b[0;31m#Conncet\u001b[0m\u001b[0;34m\u001b[0m\u001b[0;34m\u001b[0m\u001b[0;34m\u001b[0m\u001b[0m\n\u001b[0;32m----> 4\u001b[0;31m     \u001b[0mpeer_socket\u001b[0m \u001b[0;34m=\u001b[0m \u001b[0mopen_socket_tcp\u001b[0m\u001b[0;34m(\u001b[0m\u001b[0mpeer_id\u001b[0m\u001b[0;34m)\u001b[0m\u001b[0;34m\u001b[0m\u001b[0;34m\u001b[0m\u001b[0m\n\u001b[0m\u001b[1;32m      5\u001b[0m     \u001b[0;32mif\u001b[0m \u001b[0;32mnot\u001b[0m \u001b[0mpeer_socket\u001b[0m\u001b[0;34m:\u001b[0m\u001b[0;34m\u001b[0m\u001b[0;34m\u001b[0m\u001b[0m\n\u001b[1;32m      6\u001b[0m         \u001b[0mlogger\u001b[0m\u001b[0;34m.\u001b[0m\u001b[0minfo\u001b[0m\u001b[0;34m(\u001b[0m\u001b[0;34m'connect peer fail'\u001b[0m\u001b[0;34m)\u001b[0m\u001b[0;34m\u001b[0m\u001b[0;34m\u001b[0m\u001b[0m\n",
      "\u001b[0;32m<ipython-input-3-e798c6270cd7>\u001b[0m in \u001b[0;36mopen_socket_tcp\u001b[0;34m(peer_data)\u001b[0m\n\u001b[1;32m      2\u001b[0m     \u001b[0mmy_socket\u001b[0m \u001b[0;34m=\u001b[0m \u001b[0msocket\u001b[0m\u001b[0;34m.\u001b[0m\u001b[0msocket\u001b[0m\u001b[0;34m(\u001b[0m\u001b[0msocket\u001b[0m\u001b[0;34m.\u001b[0m\u001b[0mAF_INET\u001b[0m\u001b[0;34m,\u001b[0m \u001b[0msocket\u001b[0m\u001b[0;34m.\u001b[0m\u001b[0mSOCK_STREAM\u001b[0m\u001b[0;34m)\u001b[0m\u001b[0;34m\u001b[0m\u001b[0;34m\u001b[0m\u001b[0m\n\u001b[1;32m      3\u001b[0m     \u001b[0;32mtry\u001b[0m\u001b[0;34m:\u001b[0m\u001b[0;34m\u001b[0m\u001b[0;34m\u001b[0m\u001b[0m\n\u001b[0;32m----> 4\u001b[0;31m         \u001b[0mmy_socket\u001b[0m\u001b[0;34m.\u001b[0m\u001b[0mconnect\u001b[0m\u001b[0;34m(\u001b[0m\u001b[0mpeer_data\u001b[0m\u001b[0;34m)\u001b[0m\u001b[0;34m\u001b[0m\u001b[0;34m\u001b[0m\u001b[0m\n\u001b[0m\u001b[1;32m      5\u001b[0m     \u001b[0;32mexcept\u001b[0m \u001b[0mException\u001b[0m \u001b[0;32mas\u001b[0m \u001b[0me\u001b[0m\u001b[0;34m:\u001b[0m\u001b[0;34m\u001b[0m\u001b[0;34m\u001b[0m\u001b[0m\n\u001b[1;32m      6\u001b[0m         \u001b[0mlogger\u001b[0m\u001b[0;34m.\u001b[0m\u001b[0minfo\u001b[0m\u001b[0;34m(\u001b[0m\u001b[0;34m\"connect error\"\u001b[0m\u001b[0;34m,\u001b[0m \u001b[0mexc_info\u001b[0m\u001b[0;34m=\u001b[0m\u001b[0;32mTrue\u001b[0m\u001b[0;34m)\u001b[0m\u001b[0;34m\u001b[0m\u001b[0;34m\u001b[0m\u001b[0m\n",
      "\u001b[0;31mKeyboardInterrupt\u001b[0m: "
     ]
    }
   ],
   "source": [
    "data = peer_manager(torrent_file, peer)"
   ]
  },
  {
   "cell_type": "code",
   "execution_count": 29,
   "metadata": {},
   "outputs": [],
   "source": [
    "piece = b''\n",
    "for c in data:\n",
    "    piece += c\n",
    "    "
   ]
  },
  {
   "cell_type": "code",
   "execution_count": 27,
   "metadata": {},
   "outputs": [],
   "source": [
    "from hashlib import sha1"
   ]
  },
  {
   "cell_type": "code",
   "execution_count": 31,
   "metadata": {},
   "outputs": [],
   "source": [
    "s1 = sha1(piece)"
   ]
  },
  {
   "cell_type": "code",
   "execution_count": null,
   "metadata": {},
   "outputs": [],
   "source": []
  },
  {
   "cell_type": "code",
   "execution_count": 37,
   "metadata": {},
   "outputs": [
    {
     "data": {
      "text/plain": [
       "b'\\xd7\\xb0\\x05\\x17\\xc6\\x91~\\xd9\\xcb5b\\x8f\\xd8/\\x89sO\\xbc\\x1c\\xe8'"
      ]
     },
     "execution_count": 37,
     "metadata": {},
     "output_type": "execute_result"
    }
   ],
   "source": []
  },
  {
   "cell_type": "code",
   "execution_count": 36,
   "metadata": {},
   "outputs": [
    {
     "data": {
      "text/plain": [
       "b'\\xd7\\xb0\\x05\\x17\\xc6\\x91~\\xd9\\xcb5b\\x8f\\xd8/\\x89sO\\xbc\\x1c\\xe8'"
      ]
     },
     "execution_count": 36,
     "metadata": {},
     "output_type": "execute_result"
    }
   ],
   "source": [
    "torrent_file.pieces[7*20:8*20]"
   ]
  },
  {
   "cell_type": "code",
   "execution_count": 42,
   "metadata": {},
   "outputs": [
    {
     "data": {
      "text/plain": [
       "[('190.188.48.59', 51413),\n",
       " ('68.230.192.50', 54536),\n",
       " ('98.5.16.14', 54194),\n",
       " ('86.236.166.216', 16881),\n",
       " ('94.180.82.193', 51413),\n",
       " ('82.125.24.243', 51413),\n",
       " ('162.157.107.223', 23251),\n",
       " ('201.231.117.248', 51413),\n",
       " ('73.243.164.12', 51413),\n",
       " ('83.85.194.25', 16881),\n",
       " ('151.80.168.186', 51413),\n",
       " ('195.242.156.241', 1194),\n",
       " ('5.79.77.65', 50670),\n",
       " ('188.226.31.242', 51413),\n",
       " ('185.203.56.10', 55581),\n",
       " ('86.202.20.139', 16881),\n",
       " ('45.142.213.64', 38675),\n",
       " ('81.249.235.83', 27376),\n",
       " ('188.213.31.37', 51413),\n",
       " ('185.21.217.58', 58090),\n",
       " ('5.230.148.115', 8999),\n",
       " ('67.223.21.157', 51413),\n",
       " ('78.218.213.18', 60626),\n",
       " ('151.29.29.214', 51413),\n",
       " ('165.22.115.234', 51413)]"
      ]
     },
     "execution_count": 42,
     "metadata": {},
     "output_type": "execute_result"
    }
   ],
   "source": [
    "peers"
   ]
  },
  {
   "cell_type": "code",
   "execution_count": null,
   "metadata": {},
   "outputs": [],
   "source": []
  }
 ],
 "metadata": {
  "kernelspec": {
   "display_name": "Python 3",
   "language": "python",
   "name": "python3"
  },
  "language_info": {
   "codemirror_mode": {
    "name": "ipython",
    "version": 3
   },
   "file_extension": ".py",
   "mimetype": "text/x-python",
   "name": "python",
   "nbconvert_exporter": "python",
   "pygments_lexer": "ipython3",
   "version": "3.6.8"
  }
 },
 "nbformat": 4,
 "nbformat_minor": 2
}
