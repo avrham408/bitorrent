{
 "cells": [
  {
   "cell_type": "markdown",
   "metadata": {},
   "source": [
    "## import and stuff"
   ]
  },
  {
   "cell_type": "code",
   "execution_count": 12,
   "metadata": {},
   "outputs": [],
   "source": [
    "from hashlib import sha1\n",
    "import socket\n",
    "from random import randrange\n",
    "import struct\n",
    "from urllib.parse import urlsplit\n",
    "from threading import Thread\n",
    "from queue import Queue\n",
    "\n",
    "torrent_file = 'files/file2.torrent'"
   ]
  },
  {
   "cell_type": "code",
   "execution_count": 2,
   "metadata": {},
   "outputs": [],
   "source": [
    "def run_async(f, daemon=False):\n",
    "    def wrapped_f(q, *args, **kwargs):\n",
    "        ret = f(*args, **kwargs)\n",
    "        q.put(ret)\n",
    "    \n",
    "    def wrap(*args, **kwargs):\n",
    "        q = Queue()\n",
    "        t = Thread(target=wrapped_f, args=(q, ) + args, kwargs=kwargs)\n",
    "        t.daemon = daemon\n",
    "        t.start()\n",
    "        t.result_queue = q\n",
    "        return t\n",
    "    \n",
    "    return wrap"
   ]
  },
  {
   "cell_type": "markdown",
   "metadata": {},
   "source": [
    "# read meta_data from the file"
   ]
  },
  {
   "cell_type": "code",
   "execution_count": 3,
   "metadata": {},
   "outputs": [],
   "source": [
    "with open(torrent_file, 'rb') as f:\n",
    "    meta_data = Decoder(f.read()).decode()\n",
    "\n",
    "info =  Encoder(meta_data[b'info']).encode()\n",
    "info_hash = sha1(info).digest()\n",
    "\n",
    "torrent_object = TorrentFile(torrent_file)\n",
    "trackers = torrent_object.announce_list"
   ]
  },
  {
   "cell_type": "code",
   "execution_count": 4,
   "metadata": {},
   "outputs": [],
   "source": [
    "def create_req_struct(protocol_id=0X41727101980, transcation_id=randrange(0, 65535), action=0):\n",
    "    #protocol_id is const, transcation id  is random num , action 0 = connect\n",
    "    try:\n",
    "        req_struct = struct.pack(\">QLL\", protocol_id, action, transcation_id)\n",
    "    except Excpetion:\n",
    "        raise Excpetion(\"the req struct creation failed\")\n",
    "    return req_struct\n"
   ]
  },
  {
   "cell_type": "code",
   "execution_count": 5,
   "metadata": {},
   "outputs": [],
   "source": [
    "def parse_udp_url(url):\n",
    "    try:\n",
    "        scheme, netlok, params, path, _  = urlsplit(url)\n",
    "    except Exception:\n",
    "        raise Exception(f\"{url} parse url failes\")\n",
    "    if scheme != 'udp':\n",
    "        raise Excpetion(\"the url not relevant for udp tracker request\")\n",
    "    url, port = netlok.split(':')\n",
    "    try:\n",
    "        port = int(port)\n",
    "    except Excpetion:\n",
    "        raise Excpetion(\"the port number have problem\")\n",
    "    return url, port"
   ]
  },
  {
   "cell_type": "code",
   "execution_count": 6,
   "metadata": {},
   "outputs": [],
   "source": [
    "def parse_res(packet):\n",
    "    try:\n",
    "        req_response = struct.unpack(\">LLQ\", packet)\n",
    "    except Excpetion:\n",
    "        raise Excption(\"the unpack connect response failed\")\n",
    "    return req_response"
   ]
  },
  {
   "cell_type": "code",
   "execution_count": 7,
   "metadata": {},
   "outputs": [],
   "source": [
    "#create connect req\n",
    "@run_async\n",
    "def tracker_connect_req(sock, url):\n",
    "    #the funcion ask for socket connection on udp from udp tracket url \n",
    "    req_struct = create_req_struct()\n",
    "    address = parse_udp_url(url)\n",
    "    sock.sendto(req_struct, address)\n",
    "    res = sock.recv(16)\n",
    "    return parse_res(res)\n",
    "    \n"
   ]
  },
  {
   "cell_type": "code",
   "execution_count": 16,
   "metadata": {},
   "outputs": [
    {
     "data": {
      "text/plain": [
       "'http://inferno.demonoid.me:3414/announce'"
      ]
     },
     "execution_count": 16,
     "metadata": {},
     "output_type": "execute_result"
    }
   ],
   "source": [
    "trackers[0]"
   ]
  },
  {
   "cell_type": "code",
   "execution_count": 8,
   "metadata": {},
   "outputs": [],
   "source": [
    "@run_async\n",
    "def udp_tracker_req(torrent_file):\n",
    "    pass"
   ]
  },
  {
   "cell_type": "code",
   "execution_count": null,
   "metadata": {},
   "outputs": [],
   "source": []
  },
  {
   "cell_type": "code",
   "execution_count": 9,
   "metadata": {},
   "outputs": [],
   "source": [
    "@run_async\n",
    "def http_tracker_connection(url, info_hash):\n",
    "    "
   ]
  },
  {
   "cell_type": "code",
   "execution_count": 13,
   "metadata": {},
   "outputs": [
    {
     "data": {
      "text/plain": [
       "(0, 46280, 2786357492193302238)"
      ]
     },
     "execution_count": 13,
     "metadata": {},
     "output_type": "execute_result"
    }
   ],
   "source": []
  },
  {
   "cell_type": "code",
   "execution_count": 12,
   "metadata": {},
   "outputs": [
    {
     "data": {
      "text/plain": [
       "NoneType"
      ]
     },
     "execution_count": 12,
     "metadata": {},
     "output_type": "execute_result"
    }
   ],
   "source": []
  },
  {
   "cell_type": "raw",
   "metadata": {
    "scrolled": true
   },
   "source": [
    "packet = struct(\">QLL\", (res[2], 1, randrange(0, 65535), info_hash, ))"
   ]
  },
  {
   "cell_type": "markdown",
   "metadata": {},
   "source": [
    "## new test"
   ]
  },
  {
   "cell_type": "code",
   "execution_count": 2,
   "metadata": {},
   "outputs": [
    {
     "data": {
      "text/plain": [
       "[tracker(udp:p4p.arenabg.com:1337),\n",
       " tracker(udp:tracker.opentrackr.org:1337/announce),\n",
       " tracker(udp:9.rarbg.com:2710/announce),\n",
       " tracker(udp:tracker.coppersurfer.tk:6969/announce),\n",
       " tracker(udp:tracker.internetwarriors.net:1337)]"
      ]
     },
     "execution_count": 2,
     "metadata": {},
     "output_type": "execute_result"
    }
   ],
   "source": [
    "from torrent.torrent_file import generate_torrent_file\n",
    "from torrent.tracker import udp_request, announcing_req_packet,  create_connect_req_struct\n",
    "\n",
    "from random import randrange, randint\n",
    "import struct\n",
    "import logging\n",
    "import socket\n",
    "\n",
    "logger = logging.getLogger(__name__)\n",
    "PATH = \"../test_files/file.torrent\"\n",
    "\n",
    "torrent_file = generate_torrent_file(PATH)\n",
    "trackers = [tracker for tracker in torrent_file.trackers if tracker.tracker_type=='udp']\n",
    "\n",
    "trackers\n",
    "#tracker = trackers[1]\n",
    "#logger.info(tracker)\n",
    "#if tracker.path:\n",
    "#    tracker.url += tracker.path\n",
    "#print(tracker.url)"
   ]
  },
  {
   "cell_type": "code",
   "execution_count": 4,
   "metadata": {
    "scrolled": true
   },
   "outputs": [
    {
     "name": "stdout",
     "output_type": "stream",
     "text": [
      "2020-03-27 18:45:35,214 - torrent.tracker - INFO - 36 try to connect tracker(udp:tracker.opentrackr.org:1337/announce)\t\n",
      "2020-03-27 18:45:35,225 - torrent.tracker - INFO - 39 connect to socket\t\n",
      "2020-03-27 18:45:35,248 - root - INFO - 46 start connection response\t\n",
      "2020-03-27 18:45:35,256 - root - INFO - 94 start get action code\t\n",
      "2020-03-27 18:45:35,451 - root - INFO - 98 connet code got from server\t\n",
      "2020-03-27 18:45:35,452 - root - INFO - 168 connection_id is 14725166926805882690\t\n",
      "2020-03-27 18:45:35,457 - root - INFO - 94 start get action code\t\n",
      "2020-03-27 18:45:35,835 - root - INFO - 107 announce code got from server\t\n",
      "2020-03-27 18:45:35,838 - root - INFO - 88 [39433, 1935, 694, 3738]\t\n"
     ]
    }
   ],
   "source": [
    "peers = udp_request(trackers[1], torrent_file)"
   ]
  },
  {
   "cell_type": "code",
   "execution_count": 3,
   "metadata": {},
   "outputs": [],
   "source": [
    "import requests\n",
    "def web_site_online(url='http://www.google.com/', timeout=5):\n",
    "    try:\n",
    "        req = requests.get(url, timeout=timeout)\n",
    "        # HTTP errors are not raised by default, this statement does that\n",
    "        req.raise_for_status()\n",
    "        return True\n",
    "    except requests.HTTPError as e:\n",
    "        print(\"Checking internet connection failed, status code {0}.\".format(\n",
    "        e.response.status_code))\n",
    "    except requests.ConnectionError:\n",
    "        print(\"No internet connection available.\")\n",
    "    return False"
   ]
  },
  {
   "cell_type": "code",
   "execution_count": 5,
   "metadata": {},
   "outputs": [
    {
     "data": {
      "text/plain": [
       "True"
      ]
     },
     "execution_count": 5,
     "metadata": {},
     "output_type": "execute_result"
    }
   ],
   "source": [
    "web_site_online()"
   ]
  },
  {
   "cell_type": "code",
   "execution_count": null,
   "metadata": {},
   "outputs": [],
   "source": []
  }
 ],
 "metadata": {
  "kernelspec": {
   "display_name": "Python 3",
   "language": "python",
   "name": "python3"
  },
  "language_info": {
   "codemirror_mode": {
    "name": "ipython",
    "version": 3
   },
   "file_extension": ".py",
   "mimetype": "text/x-python",
   "name": "python",
   "nbconvert_exporter": "python",
   "pygments_lexer": "ipython3",
   "version": "3.6.8"
  }
 },
 "nbformat": 4,
 "nbformat_minor": 2
}
