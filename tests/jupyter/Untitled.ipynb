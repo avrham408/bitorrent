{
 "cells": [
  {
   "cell_type": "code",
   "execution_count": 1,
   "metadata": {},
   "outputs": [],
   "source": [
    "from torrent.torrent_file import generate_torrent_file\n",
    "from torrent.tracker import request_manager, udp_request, http_request\n",
    "import logging\n",
    "from torrent.utilities import run_async\n",
    "logger = logging.getLogger(__name__)\n",
    "\n",
    "PATH = \"../test_files/file2.torrent\"\n",
    "torrent_file = generate_torrent_file(PATH)"
   ]
  },
  {
   "cell_type": "code",
   "execution_count": 2,
   "metadata": {},
   "outputs": [
    {
     "name": "stderr",
     "output_type": "stream",
     "text": [
      "Exception in thread Thread-4:\n",
      "Traceback (most recent call last):\n",
      "  File \"/usr/lib/python3.6/threading.py\", line 916, in _bootstrap_inner\n",
      "    self.run()\n",
      "  File \"/usr/lib/python3.6/threading.py\", line 864, in run\n",
      "    self._target(*self._args, **self._kwargs)\n",
      "  File \"/home/avi/code/python/bitorrent/torrent/utilities.py\", line 11, in wrapped_f\n",
      "    ret = f(*args, **kwargs)\n",
      "TypeError: udp_request() missing 1 required positional argument: 'peer_manager'\n",
      "\n",
      "Exception in thread Thread-5:\n",
      "Traceback (most recent call last):\n",
      "  File \"/usr/lib/python3.6/threading.py\", line 916, in _bootstrap_inner\n",
      "    self.run()\n",
      "  File \"/usr/lib/python3.6/threading.py\", line 864, in run\n",
      "    self._target(*self._args, **self._kwargs)\n",
      "  File \"/home/avi/code/python/bitorrent/torrent/utilities.py\", line 11, in wrapped_f\n",
      "    ret = f(*args, **kwargs)\n",
      "TypeError: udp_request() missing 1 required positional argument: 'peer_manager'\n",
      "\n",
      "Exception in thread Thread-6:\n",
      "Traceback (most recent call last):\n",
      "  File \"/usr/lib/python3.6/threading.py\", line 916, in _bootstrap_inner\n",
      "    self.run()\n",
      "  File \"/usr/lib/python3.6/threading.py\", line 864, in run\n",
      "    self._target(*self._args, **self._kwargs)\n",
      "  File \"/home/avi/code/python/bitorrent/torrent/utilities.py\", line 11, in wrapped_f\n",
      "    ret = f(*args, **kwargs)\n",
      "TypeError: udp_request() missing 1 required positional argument: 'peer_manager'\n",
      "\n",
      "Exception in thread Thread-7:\n",
      "Traceback (most recent call last):\n",
      "  File \"/usr/lib/python3.6/threading.py\", line 916, in _bootstrap_inner\n",
      "    self.run()\n",
      "  File \"/usr/lib/python3.6/threading.py\", line 864, in run\n",
      "    self._target(*self._args, **self._kwargs)\n",
      "  File \"/home/avi/code/python/bitorrent/torrent/utilities.py\", line 11, in wrapped_f\n",
      "    ret = f(*args, **kwargs)\n",
      "TypeError: udp_request() missing 1 required positional argument: 'peer_manager'\n",
      "\n",
      "Exception in thread Thread-8:\n",
      "Traceback (most recent call last):\n",
      "  File \"/usr/lib/python3.6/threading.py\", line 916, in _bootstrap_inner\n",
      "    self.run()\n",
      "  File \"/usr/lib/python3.6/threading.py\", line 864, in run\n",
      "    self._target(*self._args, **self._kwargs)\n",
      "  File \"/home/avi/code/python/bitorrent/torrent/utilities.py\", line 11, in wrapped_f\n",
      "    ret = f(*args, **kwargs)\n",
      "TypeError: udp_request() missing 1 required positional argument: 'peer_manager'\n",
      "\n",
      "Exception in thread Thread-9:\n",
      "Traceback (most recent call last):\n",
      "  File \"/usr/lib/python3.6/threading.py\", line 916, in _bootstrap_inner\n",
      "    self.run()\n",
      "  File \"/usr/lib/python3.6/threading.py\", line 864, in run\n",
      "    self._target(*self._args, **self._kwargs)\n",
      "  File \"/home/avi/code/python/bitorrent/torrent/utilities.py\", line 11, in wrapped_f\n",
      "    ret = f(*args, **kwargs)\n",
      "TypeError: udp_request() missing 1 required positional argument: 'peer_manager'\n"
     ]
    }
   ],
   "source": [
    "threads = []\n",
    "for tracker in torrent_file.trackers:\n",
    "    if tracker.tracker_type == 'udp':\n",
    "        threads.append(udp_request(tracker, torrent_file))"
   ]
  },
  {
   "cell_type": "code",
   "execution_count": 3,
   "metadata": {},
   "outputs": [
    {
     "name": "stderr",
     "output_type": "stream",
     "text": [
      "\n"
     ]
    },
    {
     "ename": "AttributeError",
     "evalue": "'Thread' object has no attribute 'result_list'",
     "output_type": "error",
     "traceback": [
      "\u001b[0;31m---------------------------------------------------------------------------\u001b[0m",
      "\u001b[0;31mAttributeError\u001b[0m                            Traceback (most recent call last)",
      "\u001b[0;32m<ipython-input-3-20bf16a36cc1>\u001b[0m in \u001b[0;36m<module>\u001b[0;34m\u001b[0m\n\u001b[0;32m----> 1\u001b[0;31m \u001b[0mthreads\u001b[0m\u001b[0;34m[\u001b[0m\u001b[0;36m5\u001b[0m\u001b[0;34m]\u001b[0m\u001b[0;34m.\u001b[0m\u001b[0mresult_list\u001b[0m\u001b[0;34m\u001b[0m\u001b[0;34m\u001b[0m\u001b[0m\n\u001b[0m",
      "\u001b[0;31mAttributeError\u001b[0m: 'Thread' object has no attribute 'result_list'"
     ]
    }
   ],
   "source": [
    "threads[5].result_list"
   ]
  },
  {
   "cell_type": "code",
   "execution_count": 1,
   "metadata": {},
   "outputs": [],
   "source": [
    "from queue import Queue\n",
    "from time import sleep\n",
    "from torrent.utilities import run_async\n"
   ]
  },
  {
   "cell_type": "code",
   "execution_count": 4,
   "metadata": {},
   "outputs": [],
   "source": [
    "@run_async\n",
    "def bar(a, recursive):\n",
    "    print(\"start\")\n",
    "    sleep(3)\n",
    "    print(\"end add data\")"
   ]
  },
  {
   "cell_type": "code",
   "execution_count": 9,
   "metadata": {},
   "outputs": [
    {
     "name": "stdout",
     "output_type": "stream",
     "text": [
      "start\n",
      "end add data\n"
     ]
    }
   ],
   "source": [
    "a = bar('a', recursive=True)"
   ]
  },
  {
   "cell_type": "code",
   "execution_count": 10,
   "metadata": {},
   "outputs": [],
   "source": [
    "a"
   ]
  },
  {
   "cell_type": "code",
   "execution_count": 15,
   "metadata": {},
   "outputs": [],
   "source": [
    "import urllib\n",
    "\n",
    "def internet_on():\n",
    "    try:\n",
    "        urllib.urlopen('http://216.58.192.142', timeout=1)\n",
    "        return True\n",
    "    except urllib2.URLError as err: \n",
    "        return False"
   ]
  },
  {
   "cell_type": "raw",
   "metadata": {},
   "source": [
    "internet_on()"
   ]
  },
  {
   "cell_type": "markdown",
   "metadata": {},
   "source": [
    "# big buck bunny problem"
   ]
  },
  {
   "cell_type": "code",
   "execution_count": 1,
   "metadata": {},
   "outputs": [],
   "source": [
    "from torrent.tracker import udp_request, tracker_manager\n",
    "from torrent.torrent_file import generate_torrent_file\n",
    "from torrent.peer_manager import Peer_manager\n",
    "path = '../otest_files/file4.torrent'\n",
    "torrent_file = generate_torrent_file(path)\n",
    "peer_manager = Peer_manager()\n"
   ]
  },
  {
   "cell_type": "code",
   "execution_count": 2,
   "metadata": {},
   "outputs": [
    {
     "name": "stdout",
     "output_type": "stream",
     "text": [
      "2020-03-31 00:57:15,755 - torrent.tracker - DEBUG - 42 try to connect tracker(udp:explodie.org:6969)\t\n",
      "2020-03-31 00:57:15,772 - torrent.tracker - DEBUG - 45 connect to socket succssed\t\n",
      "2020-03-31 00:57:15,773 - torrent.tracker - DEBUG - 42 try to connect tracker(udp:tracker.leechers-paradise.org:6969)\t\n",
      "2020-03-31 00:57:15,789 - torrent.tracker - DEBUG - 45 connect to socket succssed\t\n",
      "2020-03-31 00:57:15,789 - torrent.tracker - DEBUG - 42 try to connect tracker(udp:tracker.empire-js.us:1337)\t\n",
      "2020-03-31 00:57:15,790 - torrent.tracker - DEBUG - 42 try to connect tracker(udp:tracker.opentrackr.org:1337)\t\n",
      "2020-03-31 00:57:15,816 - torrent.tracker - DEBUG - 45 connect to socket succssed\t\n",
      "2020-03-31 00:57:15,806 - torrent.tracker - DEBUG - 56 start connection response\t\n",
      "2020-03-31 00:57:15,831 - torrent.tracker - DEBUG - 128 start get action code\t\n",
      "2020-03-31 00:57:15,814 - torrent.tracker - DEBUG - 45 connect to socket succssed\t\n",
      "2020-03-31 00:57:15,799 - torrent.tracker - DEBUG - 56 start connection response\t\n",
      "2020-03-31 00:57:15,846 - torrent.tracker - DEBUG - 128 start get action code\t\n",
      "2020-03-31 00:57:15,837 - torrent.tracker - DEBUG - 56 start connection response\t\n",
      "2020-03-31 00:57:15,848 - torrent.tracker - DEBUG - 128 start get action code\t\n",
      "2020-03-31 00:57:15,807 - torrent.tracker - DEBUG - 42 try to connect tracker(udp:tracker.coppersurfer.tk:6969)\t\n",
      "2020-03-31 00:57:15,856 - torrent.tracker - DEBUG - 45 connect to socket succssed\t\n",
      "2020-03-31 00:57:15,901 - torrent.tracker - DEBUG - 56 start connection response\t\n",
      "2020-03-31 00:57:15,903 - torrent.tracker - DEBUG - 128 start get action code\t\n",
      "2020-03-31 00:57:15,902 - torrent.tracker - DEBUG - 56 start connection response\t\n",
      "2020-03-31 00:57:15,912 - torrent.tracker - DEBUG - 128 start get action code\t\n",
      "2020-03-31 00:57:15,920 - torrent.tracker - DEBUG - 132 connet code got from server\t\n",
      "2020-03-31 00:57:15,920 - torrent.tracker - DEBUG - 132 connet code got from server\t\n",
      "2020-03-31 00:57:15,930 - torrent.tracker - DEBUG - 128 start get action code\t\n",
      "2020-03-31 00:57:15,938 - torrent.tracker - DEBUG - 128 start get action code\t\n",
      "2020-03-31 00:57:16,010 - torrent.tracker - DEBUG - 132 connet code got from server\t\n",
      "2020-03-31 00:57:16,012 - torrent.tracker - DEBUG - 141 announce code got from server\t\n",
      "2020-03-31 00:57:16,024 - torrent.tracker - INFO - 112 peers add to peer_manager and go to sleep for 1692 seconds\t\n",
      "2020-03-31 00:57:16,020 - torrent.tracker - DEBUG - 128 start get action code\t\n",
      "2020-03-31 00:57:16,049 - torrent.tracker - DEBUG - 141 announce code got from server\t\n",
      "2020-03-31 00:57:16,050 - torrent.tracker - INFO - 112 peers add to peer_manager and go to sleep for 1789 seconds\t\n",
      "2020-03-31 00:57:16,227 - torrent.tracker - DEBUG - 153 error string from server\t\n",
      "2020-03-31 00:57:16,228 - torrent.tracker - WARNING - 98 [Big Buck Bunny, tracker(udp:explodie.org:6969)]server response with error- unknown option type\u0000\t\n",
      "2020-03-31 00:57:20,240 - torrent.tracker - DEBUG - 42 try to connect tracker(udp:explodie.org:6969)\t\n",
      "2020-03-31 00:57:20,242 - torrent.tracker - DEBUG - 45 connect to socket succssed\t\n",
      "2020-03-31 00:57:20,267 - torrent.tracker - DEBUG - 56 start connection response\t\n",
      "2020-03-31 00:57:20,284 - torrent.tracker - DEBUG - 128 start get action code\t\n",
      "2020-03-31 00:57:20,473 - torrent.tracker - DEBUG - 132 connet code got from server\t\n",
      "2020-03-31 00:57:20,479 - torrent.tracker - DEBUG - 128 start get action code\t\n",
      "2020-03-31 00:57:20,684 - torrent.tracker - DEBUG - 153 error string from server\t\n",
      "2020-03-31 00:57:20,685 - torrent.tracker - WARNING - 98 [Big Buck Bunny, tracker(udp:explodie.org:6969)]server response with error- unknown option type\u0000\t\n",
      "2020-03-31 00:57:40,692 - torrent.tracker - DEBUG - 42 try to connect tracker(udp:explodie.org:6969)\t\n",
      "2020-03-31 00:57:40,694 - torrent.tracker - DEBUG - 45 connect to socket succssed\t\n",
      "2020-03-31 00:57:40,717 - torrent.tracker - DEBUG - 56 start connection response\t\n",
      "2020-03-31 00:57:40,729 - torrent.tracker - DEBUG - 128 start get action code\t\n",
      "2020-03-31 00:57:40,918 - torrent.tracker - DEBUG - 132 connet code got from server\t\n",
      "2020-03-31 00:57:40,923 - torrent.tracker - DEBUG - 128 start get action code\t\n",
      "2020-03-31 00:57:41,123 - torrent.tracker - DEBUG - 153 error string from server\t\n",
      "2020-03-31 00:57:41,124 - torrent.tracker - WARNING - 98 [Big Buck Bunny, tracker(udp:explodie.org:6969)]server response with error- unknown option type\u0000\t\n"
     ]
    }
   ],
   "source": [
    "th = tracker_manager(torrent_file, peer_manager)"
   ]
  },
  {
   "cell_type": "code",
   "execution_count": 4,
   "metadata": {
    "scrolled": true
   },
   "outputs": [
    {
     "data": {
      "text/plain": [
       "38"
      ]
     },
     "execution_count": 4,
     "metadata": {},
     "output_type": "execute_result"
    },
    {
     "name": "stdout",
     "output_type": "stream",
     "text": [
      "2020-03-31 00:59:05,152 - torrent.tracker - DEBUG - 42 try to connect tracker(udp:explodie.org:6969)\t\n",
      "2020-03-31 00:59:05,164 - torrent.tracker - DEBUG - 45 connect to socket succssed\t\n",
      "2020-03-31 00:59:05,182 - torrent.tracker - DEBUG - 56 start connection response\t\n",
      "2020-03-31 00:59:05,194 - torrent.tracker - DEBUG - 128 start get action code\t\n",
      "2020-03-31 00:59:05,382 - torrent.tracker - DEBUG - 132 connet code got from server\t\n",
      "2020-03-31 00:59:05,390 - torrent.tracker - DEBUG - 128 start get action code\t\n",
      "2020-03-31 00:59:05,589 - torrent.tracker - DEBUG - 153 error string from server\t\n",
      "2020-03-31 00:59:05,590 - torrent.tracker - WARNING - 98 [Big Buck Bunny, tracker(udp:explodie.org:6969)]server response with error- unknown option type\u0000\t\n",
      "2020-03-31 01:04:45,700 - torrent.tracker - DEBUG - 42 try to connect tracker(udp:explodie.org:6969)\t\n",
      "2020-03-31 01:04:45,710 - torrent.tracker - DEBUG - 45 connect to socket succssed\t\n",
      "2020-03-31 01:04:45,730 - torrent.tracker - DEBUG - 56 start connection response\t\n",
      "2020-03-31 01:04:45,741 - torrent.tracker - DEBUG - 128 start get action code\t\n",
      "2020-03-31 01:04:45,930 - torrent.tracker - DEBUG - 132 connet code got from server\t\n",
      "2020-03-31 01:04:45,937 - torrent.tracker - DEBUG - 128 start get action code\t\n",
      "2020-03-31 01:04:46,137 - torrent.tracker - DEBUG - 153 error string from server\t\n",
      "2020-03-31 01:04:46,139 - torrent.tracker - WARNING - 98 [Big Buck Bunny, tracker(udp:explodie.org:6969)]server response with error- unknown option type\u0000\t\n",
      "2020-03-31 01:25:28,140 - torrent.tracker - DEBUG - 128 start get action code\t\n",
      "2020-03-31 01:25:28,223 - torrent.tracker - DEBUG - 141 announce code got from server\t\n",
      "2020-03-31 01:25:28,230 - torrent.tracker - INFO - 112 peers add to peer_manager and go to sleep for 1959 seconds\t\n",
      "2020-03-31 01:27:05,175 - torrent.tracker - DEBUG - 128 start get action code\t\n",
      "2020-03-31 01:27:05,293 - torrent.tracker - DEBUG - 141 announce code got from server\t\n",
      "2020-03-31 01:27:05,298 - torrent.tracker - INFO - 112 peers add to peer_manager and go to sleep for 1653 seconds\t\n",
      "2020-03-31 01:27:30,248 - torrent.tracker - DEBUG - 42 try to connect tracker(udp:explodie.org:6969)\t\n",
      "2020-03-31 01:27:30,250 - torrent.tracker - DEBUG - 45 connect to socket succssed\t\n",
      "2020-03-31 01:27:30,264 - torrent.tracker - DEBUG - 56 start connection response\t\n",
      "2020-03-31 01:27:30,272 - torrent.tracker - DEBUG - 128 start get action code\t\n",
      "2020-03-31 01:27:30,464 - torrent.tracker - DEBUG - 132 connet code got from server\t\n",
      "2020-03-31 01:27:30,470 - torrent.tracker - DEBUG - 128 start get action code\t\n",
      "2020-03-31 01:27:30,668 - torrent.tracker - DEBUG - 153 error string from server\t\n",
      "2020-03-31 01:27:30,669 - torrent.tracker - WARNING - 98 [Big Buck Bunny, tracker(udp:explodie.org:6969)]server response with error- unknown option type\u0000\t\n",
      "2020-03-31 01:54:38,449 - torrent.tracker - DEBUG - 128 start get action code\t\n",
      "2020-03-31 01:57:30,772 - torrent.tracker - DEBUG - 42 try to connect tracker(udp:explodie.org:6969)\t\n",
      "2020-03-31 01:57:30,782 - torrent.tracker - DEBUG - 45 connect to socket succssed\t\n",
      "2020-03-31 01:57:30,812 - torrent.tracker - DEBUG - 56 start connection response\t\n",
      "2020-03-31 01:57:30,825 - torrent.tracker - DEBUG - 128 start get action code\t\n",
      "2020-03-31 01:57:31,014 - torrent.tracker - DEBUG - 132 connet code got from server\t\n",
      "2020-03-31 01:57:31,030 - torrent.tracker - DEBUG - 128 start get action code\t\n",
      "2020-03-31 01:57:31,235 - torrent.tracker - DEBUG - 153 error string from server\t\n",
      "2020-03-31 01:57:31,239 - torrent.tracker - WARNING - 98 [Big Buck Bunny, tracker(udp:explodie.org:6969)]server response with error- unknown option type\u0000\t\n",
      "2020-03-31 01:58:07,351 - torrent.tracker - DEBUG - 128 start get action code\t\n",
      "2020-03-31 01:58:07,433 - torrent.tracker - DEBUG - 141 announce code got from server\t\n",
      "2020-03-31 01:58:07,433 - torrent.tracker - INFO - 112 peers add to peer_manager and go to sleep for 1671 seconds\t\n",
      "2020-03-31 02:25:58,600 - torrent.tracker - DEBUG - 128 start get action code\t\n",
      "2020-03-31 02:25:58,831 - torrent.tracker - DEBUG - 141 announce code got from server\t\n",
      "2020-03-31 02:25:58,832 - torrent.tracker - INFO - 112 peers add to peer_manager and go to sleep for 1864 seconds\t\n",
      "2020-03-31 02:27:31,353 - torrent.tracker - DEBUG - 42 try to connect tracker(udp:explodie.org:6969)\t\n",
      "2020-03-31 02:27:31,353 - torrent.tracker - DEBUG - 45 connect to socket succssed\t\n",
      "2020-03-31 02:27:31,356 - torrent.tracker - DEBUG - 56 start connection response\t\n",
      "2020-03-31 02:27:31,357 - torrent.tracker - DEBUG - 128 start get action code\t\n",
      "2020-03-31 02:27:31,657 - torrent.tracker - DEBUG - 132 connet code got from server\t\n",
      "2020-03-31 02:27:31,660 - torrent.tracker - DEBUG - 128 start get action code\t\n",
      "2020-03-31 02:27:31,932 - torrent.tracker - DEBUG - 153 error string from server\t\n",
      "2020-03-31 02:27:31,932 - torrent.tracker - WARNING - 98 [Big Buck Bunny, tracker(udp:explodie.org:6969)]server response with error- unknown option type\u0000\t\n",
      "2020-03-31 02:57:03,050 - torrent.tracker - DEBUG - 128 start get action code\t\n",
      "2020-03-31 02:57:03,212 - torrent.tracker - DEBUG - 141 announce code got from server\t\n",
      "2020-03-31 02:57:03,213 - torrent.tracker - INFO - 112 peers add to peer_manager and go to sleep for 1936 seconds\t\n",
      "2020-03-31 02:57:32,016 - torrent.tracker - DEBUG - 42 try to connect tracker(udp:explodie.org:6969)\t\n",
      "2020-03-31 02:57:32,017 - torrent.tracker - DEBUG - 45 connect to socket succssed\t\n",
      "2020-03-31 02:57:32,019 - torrent.tracker - DEBUG - 56 start connection response\t\n",
      "2020-03-31 02:57:32,020 - torrent.tracker - DEBUG - 128 start get action code\t\n",
      "2020-03-31 02:57:32,347 - torrent.tracker - DEBUG - 132 connet code got from server\t\n",
      "2020-03-31 02:57:32,350 - torrent.tracker - DEBUG - 128 start get action code\t\n",
      "2020-03-31 02:57:32,676 - torrent.tracker - DEBUG - 153 error string from server\t\n",
      "2020-03-31 02:57:32,677 - torrent.tracker - WARNING - 98 [Big Buck Bunny, tracker(udp:explodie.org:6969)]server response with error- unknown option type\u0000\t\n",
      "2020-03-31 12:28:11,596 - torrent.tracker - DEBUG - 42 try to connect tracker(udp:explodie.org:6969)\t\n",
      "2020-03-31 12:28:11,598 - torrent.tracker - DEBUG - 45 connect to socket succssed\t\n",
      "2020-03-31 12:28:11,667 - torrent.tracker - DEBUG - 56 start connection response\t\n",
      "2020-03-31 12:28:11,669 - torrent.tracker - DEBUG - 128 start get action code\t\n",
      "2020-03-31 12:28:11,882 - torrent.tracker - DEBUG - 132 connet code got from server\t\n",
      "2020-03-31 12:28:11,886 - torrent.tracker - DEBUG - 128 start get action code\t\n",
      "2020-03-31 12:28:12,103 - torrent.tracker - DEBUG - 153 error string from server\t\n",
      "2020-03-31 12:28:12,104 - torrent.tracker - WARNING - 98 [Big Buck Bunny, tracker(udp:explodie.org:6969)]server response with error- unknown option type\u0000\t\n",
      "2020-03-31 12:29:58,069 - torrent.tracker - DEBUG - 128 start get action code\t\n",
      "2020-03-31 12:29:58,180 - torrent.tracker - DEBUG - 141 announce code got from server\t\n",
      "2020-03-31 12:29:58,188 - torrent.tracker - INFO - 112 peers add to peer_manager and go to sleep for 1647 seconds\t\n",
      "2020-03-31 12:57:25,397 - torrent.tracker - DEBUG - 128 start get action code\t\n",
      "2020-03-31 12:57:25,614 - torrent.tracker - DEBUG - 141 announce code got from server\t\n",
      "2020-03-31 12:57:25,624 - torrent.tracker - INFO - 112 peers add to peer_manager and go to sleep for 1631 seconds\t\n",
      "2020-03-31 12:58:12,208 - torrent.tracker - DEBUG - 42 try to connect tracker(udp:explodie.org:6969)\t\n",
      "2020-03-31 12:58:12,217 - torrent.tracker - DEBUG - 45 connect to socket succssed\t\n",
      "2020-03-31 12:58:12,229 - torrent.tracker - DEBUG - 56 start connection response\t\n",
      "2020-03-31 12:58:12,241 - torrent.tracker - DEBUG - 128 start get action code\t\n",
      "2020-03-31 12:58:12,600 - torrent.tracker - DEBUG - 132 connet code got from server\t\n",
      "2020-03-31 12:58:12,613 - torrent.tracker - DEBUG - 128 start get action code\t\n",
      "2020-03-31 12:58:12,856 - torrent.tracker - DEBUG - 153 error string from server\t\n",
      "2020-03-31 12:58:12,859 - torrent.tracker - WARNING - 98 [Big Buck Bunny, tracker(udp:explodie.org:6969)]server response with error- unknown option type\u0000\t\n",
      "2020-03-31 13:24:36,697 - torrent.tracker - DEBUG - 128 start get action code\t\n",
      "2020-03-31 13:24:36,855 - torrent.tracker - DEBUG - 141 announce code got from server\t\n",
      "2020-03-31 13:24:36,868 - torrent.tracker - INFO - 112 peers add to peer_manager and go to sleep for 1936 seconds\t\n"
     ]
    },
    {
     "name": "stdout",
     "output_type": "stream",
     "text": [
      "2020-03-31 13:28:12,884 - torrent.tracker - DEBUG - 42 try to connect tracker(udp:explodie.org:6969)\t\n",
      "2020-03-31 13:28:12,892 - torrent.tracker - DEBUG - 45 connect to socket succssed\t\n",
      "2020-03-31 13:28:12,905 - torrent.tracker - DEBUG - 56 start connection response\t\n",
      "2020-03-31 13:28:12,916 - torrent.tracker - DEBUG - 128 start get action code\t\n",
      "2020-03-31 13:28:13,186 - torrent.tracker - DEBUG - 132 connet code got from server\t\n",
      "2020-03-31 13:28:13,193 - torrent.tracker - DEBUG - 128 start get action code\t\n",
      "2020-03-31 13:28:13,490 - torrent.tracker - DEBUG - 153 error string from server\t\n",
      "2020-03-31 13:28:13,493 - torrent.tracker - WARNING - 98 [Big Buck Bunny, tracker(udp:explodie.org:6969)]server response with error- unknown option type\u0000\t\n",
      "2020-03-31 13:56:52,933 - torrent.tracker - DEBUG - 128 start get action code\t\n",
      "2020-03-31 13:56:53,240 - torrent.tracker - DEBUG - 141 announce code got from server\t\n",
      "2020-03-31 13:56:53,246 - torrent.tracker - INFO - 112 peers add to peer_manager and go to sleep for 1956 seconds\t\n",
      "2020-03-31 13:58:13,557 - torrent.tracker - DEBUG - 42 try to connect tracker(udp:explodie.org:6969)\t\n",
      "2020-03-31 13:58:13,568 - torrent.tracker - DEBUG - 45 connect to socket succssed\t\n",
      "2020-03-31 13:58:13,582 - torrent.tracker - DEBUG - 56 start connection response\t\n",
      "2020-03-31 13:58:13,591 - torrent.tracker - DEBUG - 128 start get action code\t\n",
      "2020-03-31 13:58:13,829 - torrent.tracker - DEBUG - 132 connet code got from server\t\n",
      "2020-03-31 13:58:13,843 - torrent.tracker - DEBUG - 128 start get action code\t\n",
      "2020-03-31 13:58:14,337 - torrent.tracker - DEBUG - 153 error string from server\t\n",
      "2020-03-31 13:58:14,339 - torrent.tracker - WARNING - 98 [Big Buck Bunny, tracker(udp:explodie.org:6969)]server response with error- unknown option type\u0000\t\n",
      "2020-03-31 14:28:14,450 - torrent.tracker - DEBUG - 42 try to connect tracker(udp:explodie.org:6969)\t\n",
      "2020-03-31 14:28:14,453 - torrent.tracker - DEBUG - 45 connect to socket succssed\t\n",
      "2020-03-31 14:28:14,461 - torrent.tracker - DEBUG - 56 start connection response\t\n",
      "2020-03-31 14:28:14,462 - torrent.tracker - DEBUG - 128 start get action code\t\n",
      "2020-03-31 14:28:14,747 - torrent.tracker - DEBUG - 132 connet code got from server\t\n",
      "2020-03-31 14:28:14,752 - torrent.tracker - DEBUG - 128 start get action code\t\n",
      "2020-03-31 14:28:15,086 - torrent.tracker - DEBUG - 153 error string from server\t\n",
      "2020-03-31 14:28:15,087 - torrent.tracker - WARNING - 98 [Big Buck Bunny, tracker(udp:explodie.org:6969)]server response with error- unknown option type\u0000\t\n",
      "2020-03-31 14:29:29,349 - torrent.tracker - DEBUG - 128 start get action code\t\n",
      "2020-03-31 14:29:29,420 - torrent.tracker - DEBUG - 141 announce code got from server\t\n",
      "2020-03-31 14:29:29,421 - torrent.tracker - INFO - 112 peers add to peer_manager and go to sleep for 1891 seconds\t\n",
      "2020-03-31 14:58:15,116 - torrent.tracker - DEBUG - 42 try to connect tracker(udp:explodie.org:6969)\t\n",
      "2020-03-31 14:58:15,123 - torrent.tracker - DEBUG - 45 connect to socket succssed\t\n",
      "2020-03-31 14:58:15,146 - torrent.tracker - DEBUG - 56 start connection response\t\n",
      "2020-03-31 14:58:15,153 - torrent.tracker - DEBUG - 128 start get action code\t\n",
      "2020-03-31 14:58:15,368 - torrent.tracker - DEBUG - 132 connet code got from server\t\n",
      "2020-03-31 14:58:15,375 - torrent.tracker - DEBUG - 128 start get action code\t\n",
      "2020-03-31 14:58:15,588 - torrent.tracker - DEBUG - 153 error string from server\t\n",
      "2020-03-31 14:58:15,591 - torrent.tracker - WARNING - 98 [Big Buck Bunny, tracker(udp:explodie.org:6969)]server response with error- unknown option type\u0000\t\n",
      "2020-03-31 15:01:00,447 - torrent.tracker - DEBUG - 128 start get action code\t\n",
      "2020-03-31 15:01:00,522 - torrent.tracker - DEBUG - 141 announce code got from server\t\n",
      "2020-03-31 15:01:00,523 - torrent.tracker - INFO - 112 peers add to peer_manager and go to sleep for 1884 seconds\t\n",
      "2020-03-31 15:28:15,628 - torrent.tracker - DEBUG - 42 try to connect tracker(udp:explodie.org:6969)\t\n",
      "2020-03-31 15:28:15,633 - torrent.tracker - DEBUG - 45 connect to socket succssed\t\n",
      "2020-03-31 15:28:15,964 - torrent.tracker - DEBUG - 56 start connection response\t\n",
      "2020-03-31 15:28:15,974 - torrent.tracker - DEBUG - 128 start get action code\t\n",
      "2020-03-31 15:28:16,305 - torrent.tracker - DEBUG - 132 connet code got from server\t\n",
      "2020-03-31 15:28:16,349 - torrent.tracker - DEBUG - 128 start get action code\t\n",
      "2020-03-31 15:28:16,574 - torrent.tracker - DEBUG - 153 error string from server\t\n",
      "2020-03-31 15:28:16,580 - torrent.tracker - WARNING - 98 [Big Buck Bunny, tracker(udp:explodie.org:6969)]server response with error- unknown option type\u0000\t\n",
      "2020-03-31 15:32:24,618 - torrent.tracker - DEBUG - 128 start get action code\t\n",
      "2020-03-31 15:32:24,824 - torrent.tracker - DEBUG - 141 announce code got from server\t\n",
      "2020-03-31 15:32:24,827 - torrent.tracker - INFO - 112 peers add to peer_manager and go to sleep for 1670 seconds\t\n",
      "2020-03-31 15:58:16,721 - torrent.tracker - DEBUG - 42 try to connect tracker(udp:explodie.org:6969)\t\n",
      "2020-03-31 15:58:16,727 - torrent.tracker - DEBUG - 45 connect to socket succssed\t\n",
      "2020-03-31 15:58:16,732 - torrent.tracker - DEBUG - 56 start connection response\t\n",
      "2020-03-31 15:58:16,736 - torrent.tracker - DEBUG - 128 start get action code\t\n",
      "2020-03-31 15:58:17,025 - torrent.tracker - DEBUG - 132 connet code got from server\t\n",
      "2020-03-31 15:58:17,030 - torrent.tracker - DEBUG - 128 start get action code\t\n",
      "2020-03-31 15:58:17,434 - torrent.tracker - DEBUG - 153 error string from server\t\n",
      "2020-03-31 15:58:17,435 - torrent.tracker - WARNING - 98 [Big Buck Bunny, tracker(udp:explodie.org:6969)]server response with error- unknown option type\u0000\t\n",
      "2020-03-31 16:00:14,850 - torrent.tracker - DEBUG - 128 start get action code\t\n",
      "2020-03-31 16:00:14,992 - torrent.tracker - DEBUG - 141 announce code got from server\t\n",
      "2020-03-31 16:00:14,997 - torrent.tracker - INFO - 112 peers add to peer_manager and go to sleep for 1844 seconds\t\n",
      "2020-03-31 16:28:17,542 - torrent.tracker - DEBUG - 42 try to connect tracker(udp:explodie.org:6969)\t\n",
      "2020-03-31 16:28:17,544 - torrent.tracker - DEBUG - 45 connect to socket succssed\t\n",
      "2020-03-31 16:28:17,550 - torrent.tracker - DEBUG - 56 start connection response\t\n",
      "2020-03-31 16:28:17,550 - torrent.tracker - DEBUG - 128 start get action code\t\n",
      "2020-03-31 16:28:17,748 - torrent.tracker - DEBUG - 132 connet code got from server\t\n",
      "2020-03-31 16:28:17,754 - torrent.tracker - DEBUG - 128 start get action code\t\n",
      "2020-03-31 16:28:17,979 - torrent.tracker - DEBUG - 153 error string from server\t\n",
      "2020-03-31 16:28:17,980 - torrent.tracker - WARNING - 98 [Big Buck Bunny, tracker(udp:explodie.org:6969)]server response with error- unknown option type\u0000\t\n",
      "2020-03-31 16:30:59,113 - torrent.tracker - DEBUG - 128 start get action code\t\n",
      "2020-03-31 16:30:59,194 - torrent.tracker - DEBUG - 141 announce code got from server\t\n",
      "2020-03-31 16:30:59,195 - torrent.tracker - INFO - 112 peers add to peer_manager and go to sleep for 1848 seconds\t\n",
      "2020-03-31 16:58:18,078 - torrent.tracker - DEBUG - 42 try to connect tracker(udp:explodie.org:6969)\t\n",
      "2020-03-31 16:58:18,079 - torrent.tracker - DEBUG - 45 connect to socket succssed\t\n",
      "2020-03-31 16:58:18,082 - torrent.tracker - DEBUG - 56 start connection response\t\n",
      "2020-03-31 16:58:18,084 - torrent.tracker - DEBUG - 128 start get action code\t\n",
      "2020-03-31 16:58:18,311 - torrent.tracker - DEBUG - 132 connet code got from server\t\n",
      "2020-03-31 16:58:18,315 - torrent.tracker - DEBUG - 128 start get action code\t\n",
      "2020-03-31 17:01:47,304 - torrent.tracker - DEBUG - 128 start get action code\t\n",
      "2020-03-31 17:01:47,403 - torrent.tracker - DEBUG - 141 announce code got from server\t\n",
      "2020-03-31 17:01:47,407 - torrent.tracker - INFO - 112 peers add to peer_manager and go to sleep for 1779 seconds\t\n",
      "2020-03-31 17:31:26,446 - torrent.tracker - DEBUG - 128 start get action code\t\n",
      "2020-03-31 17:31:26,591 - torrent.tracker - DEBUG - 141 announce code got from server\t\n",
      "2020-03-31 17:31:26,594 - torrent.tracker - INFO - 112 peers add to peer_manager and go to sleep for 1766 seconds\t\n",
      "2020-03-31 18:00:52,619 - torrent.tracker - DEBUG - 128 start get action code\t\n",
      "2020-03-31 18:00:52,726 - torrent.tracker - DEBUG - 141 announce code got from server\t\n",
      "2020-03-31 18:00:52,728 - torrent.tracker - INFO - 112 peers add to peer_manager and go to sleep for 1704 seconds\t\n"
     ]
    },
    {
     "name": "stdout",
     "output_type": "stream",
     "text": [
      "2020-03-31 18:29:16,758 - torrent.tracker - DEBUG - 128 start get action code\t\n",
      "2020-03-31 18:29:16,973 - torrent.tracker - DEBUG - 141 announce code got from server\t\n",
      "2020-03-31 18:29:16,975 - torrent.tracker - INFO - 112 peers add to peer_manager and go to sleep for 1794 seconds\t\n",
      "2020-03-31 18:59:11,128 - torrent.tracker - DEBUG - 128 start get action code\t\n",
      "2020-03-31 18:59:11,427 - torrent.tracker - DEBUG - 141 announce code got from server\t\n",
      "2020-03-31 18:59:11,432 - torrent.tracker - INFO - 112 peers add to peer_manager and go to sleep for 1856 seconds\t\n",
      "2020-03-31 19:30:07,500 - torrent.tracker - DEBUG - 128 start get action code\t\n",
      "2020-03-31 19:30:07,616 - torrent.tracker - DEBUG - 141 announce code got from server\t\n",
      "2020-03-31 19:30:07,617 - torrent.tracker - INFO - 112 peers add to peer_manager and go to sleep for 1802 seconds\t\n",
      "2020-03-31 20:04:07,115 - torrent.tracker - DEBUG - 128 start get action code\t\n",
      "2020-03-31 20:04:07,323 - torrent.tracker - DEBUG - 141 announce code got from server\t\n",
      "2020-03-31 20:04:07,324 - torrent.tracker - INFO - 112 peers add to peer_manager and go to sleep for 1648 seconds\t\n",
      "2020-03-31 20:31:35,441 - torrent.tracker - DEBUG - 128 start get action code\t\n",
      "2020-03-31 20:31:35,896 - torrent.tracker - DEBUG - 141 announce code got from server\t\n",
      "2020-03-31 20:31:35,907 - torrent.tracker - INFO - 112 peers add to peer_manager and go to sleep for 1623 seconds\t\n",
      "2020-03-31 20:58:38,975 - torrent.tracker - DEBUG - 128 start get action code\t\n",
      "2020-03-31 20:58:39,524 - torrent.tracker - DEBUG - 141 announce code got from server\t\n",
      "2020-03-31 20:58:39,527 - torrent.tracker - INFO - 112 peers add to peer_manager and go to sleep for 1823 seconds\t\n",
      "2020-03-31 21:29:02,609 - torrent.tracker - DEBUG - 128 start get action code\t\n",
      "2020-03-31 21:29:02,915 - torrent.tracker - DEBUG - 141 announce code got from server\t\n",
      "2020-03-31 21:29:02,915 - torrent.tracker - INFO - 112 peers add to peer_manager and go to sleep for 1707 seconds\t\n",
      "2020-03-31 21:57:29,962 - torrent.tracker - DEBUG - 128 start get action code\t\n",
      "2020-03-31 21:57:30,142 - torrent.tracker - DEBUG - 141 announce code got from server\t\n",
      "2020-03-31 21:57:30,143 - torrent.tracker - INFO - 112 peers add to peer_manager and go to sleep for 1731 seconds\t\n",
      "2020-03-31 22:26:21,165 - torrent.tracker - DEBUG - 128 start get action code\t\n",
      "2020-03-31 22:26:21,321 - torrent.tracker - DEBUG - 141 announce code got from server\t\n",
      "2020-03-31 22:26:21,322 - torrent.tracker - INFO - 112 peers add to peer_manager and go to sleep for 1620 seconds\t\n",
      "2020-03-31 22:53:21,426 - torrent.tracker - DEBUG - 128 start get action code\t\n",
      "2020-03-31 22:53:21,618 - torrent.tracker - DEBUG - 141 announce code got from server\t\n",
      "2020-03-31 22:53:21,619 - torrent.tracker - INFO - 112 peers add to peer_manager and go to sleep for 1655 seconds\t\n"
     ]
    }
   ],
   "source": []
  },
  {
   "cell_type": "code",
   "execution_count": null,
   "metadata": {},
   "outputs": [],
   "source": []
  }
 ],
 "metadata": {
  "kernelspec": {
   "display_name": "Python 3",
   "language": "python",
   "name": "python3"
  },
  "language_info": {
   "codemirror_mode": {
    "name": "ipython",
    "version": 3
   },
   "file_extension": ".py",
   "mimetype": "text/x-python",
   "name": "python",
   "nbconvert_exporter": "python",
   "pygments_lexer": "ipython3",
   "version": "3.6.8"
  }
 },
 "nbformat": 4,
 "nbformat_minor": 2
}
