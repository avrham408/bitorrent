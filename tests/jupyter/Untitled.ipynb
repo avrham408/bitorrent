{
 "cells": [
  {
   "cell_type": "code",
   "execution_count": 1,
   "metadata": {},
   "outputs": [],
   "source": [
    "from torrent.torrent_file import generate_torrent_file\n",
    "from torrent.tracker import request_manager, udp_request, http_request\n",
    "import logging\n",
    "from torrent.utilities import run_async\n",
    "logger = logging.getLogger(__name__)\n",
    "\n",
    "PATH = \"../test_files/file2.torrent\"\n",
    "torrent_file = generate_torrent_file(PATH)"
   ]
  },
  {
   "cell_type": "code",
   "execution_count": 2,
   "metadata": {},
   "outputs": [
    {
     "name": "stderr",
     "output_type": "stream",
     "text": [
      "Exception in thread Thread-4:\n",
      "Traceback (most recent call last):\n",
      "  File \"/usr/lib/python3.6/threading.py\", line 916, in _bootstrap_inner\n",
      "    self.run()\n",
      "  File \"/usr/lib/python3.6/threading.py\", line 864, in run\n",
      "    self._target(*self._args, **self._kwargs)\n",
      "  File \"/home/avi/code/python/bitorrent/torrent/utilities.py\", line 11, in wrapped_f\n",
      "    ret = f(*args, **kwargs)\n",
      "TypeError: udp_request() missing 1 required positional argument: 'peer_manager'\n",
      "\n",
      "Exception in thread Thread-5:\n",
      "Traceback (most recent call last):\n",
      "  File \"/usr/lib/python3.6/threading.py\", line 916, in _bootstrap_inner\n",
      "    self.run()\n",
      "  File \"/usr/lib/python3.6/threading.py\", line 864, in run\n",
      "    self._target(*self._args, **self._kwargs)\n",
      "  File \"/home/avi/code/python/bitorrent/torrent/utilities.py\", line 11, in wrapped_f\n",
      "    ret = f(*args, **kwargs)\n",
      "TypeError: udp_request() missing 1 required positional argument: 'peer_manager'\n",
      "\n",
      "Exception in thread Thread-6:\n",
      "Traceback (most recent call last):\n",
      "  File \"/usr/lib/python3.6/threading.py\", line 916, in _bootstrap_inner\n",
      "    self.run()\n",
      "  File \"/usr/lib/python3.6/threading.py\", line 864, in run\n",
      "    self._target(*self._args, **self._kwargs)\n",
      "  File \"/home/avi/code/python/bitorrent/torrent/utilities.py\", line 11, in wrapped_f\n",
      "    ret = f(*args, **kwargs)\n",
      "TypeError: udp_request() missing 1 required positional argument: 'peer_manager'\n",
      "\n",
      "Exception in thread Thread-7:\n",
      "Traceback (most recent call last):\n",
      "  File \"/usr/lib/python3.6/threading.py\", line 916, in _bootstrap_inner\n",
      "    self.run()\n",
      "  File \"/usr/lib/python3.6/threading.py\", line 864, in run\n",
      "    self._target(*self._args, **self._kwargs)\n",
      "  File \"/home/avi/code/python/bitorrent/torrent/utilities.py\", line 11, in wrapped_f\n",
      "    ret = f(*args, **kwargs)\n",
      "TypeError: udp_request() missing 1 required positional argument: 'peer_manager'\n",
      "\n",
      "Exception in thread Thread-8:\n",
      "Traceback (most recent call last):\n",
      "  File \"/usr/lib/python3.6/threading.py\", line 916, in _bootstrap_inner\n",
      "    self.run()\n",
      "  File \"/usr/lib/python3.6/threading.py\", line 864, in run\n",
      "    self._target(*self._args, **self._kwargs)\n",
      "  File \"/home/avi/code/python/bitorrent/torrent/utilities.py\", line 11, in wrapped_f\n",
      "    ret = f(*args, **kwargs)\n",
      "TypeError: udp_request() missing 1 required positional argument: 'peer_manager'\n",
      "\n",
      "Exception in thread Thread-9:\n",
      "Traceback (most recent call last):\n",
      "  File \"/usr/lib/python3.6/threading.py\", line 916, in _bootstrap_inner\n",
      "    self.run()\n",
      "  File \"/usr/lib/python3.6/threading.py\", line 864, in run\n",
      "    self._target(*self._args, **self._kwargs)\n",
      "  File \"/home/avi/code/python/bitorrent/torrent/utilities.py\", line 11, in wrapped_f\n",
      "    ret = f(*args, **kwargs)\n",
      "TypeError: udp_request() missing 1 required positional argument: 'peer_manager'\n"
     ]
    }
   ],
   "source": [
    "threads = []\n",
    "for tracker in torrent_file.trackers:\n",
    "    if tracker.tracker_type == 'udp':\n",
    "        threads.append(udp_request(tracker, torrent_file))"
   ]
  },
  {
   "cell_type": "code",
   "execution_count": 3,
   "metadata": {},
   "outputs": [
    {
     "name": "stderr",
     "output_type": "stream",
     "text": [
      "\n"
     ]
    },
    {
     "ename": "AttributeError",
     "evalue": "'Thread' object has no attribute 'result_list'",
     "output_type": "error",
     "traceback": [
      "\u001b[0;31m---------------------------------------------------------------------------\u001b[0m",
      "\u001b[0;31mAttributeError\u001b[0m                            Traceback (most recent call last)",
      "\u001b[0;32m<ipython-input-3-20bf16a36cc1>\u001b[0m in \u001b[0;36m<module>\u001b[0;34m\u001b[0m\n\u001b[0;32m----> 1\u001b[0;31m \u001b[0mthreads\u001b[0m\u001b[0;34m[\u001b[0m\u001b[0;36m5\u001b[0m\u001b[0;34m]\u001b[0m\u001b[0;34m.\u001b[0m\u001b[0mresult_list\u001b[0m\u001b[0;34m\u001b[0m\u001b[0;34m\u001b[0m\u001b[0m\n\u001b[0m",
      "\u001b[0;31mAttributeError\u001b[0m: 'Thread' object has no attribute 'result_list'"
     ]
    }
   ],
   "source": [
    "threads[5].result_list"
   ]
  },
  {
   "cell_type": "code",
   "execution_count": 1,
   "metadata": {},
   "outputs": [],
   "source": [
    "from queue import Queue\n",
    "from time import sleep\n",
    "from torrent.utilities import run_async\n"
   ]
  },
  {
   "cell_type": "code",
   "execution_count": 4,
   "metadata": {},
   "outputs": [],
   "source": [
    "@run_async\n",
    "def bar(a, recursive):\n",
    "    print(\"start\")\n",
    "    sleep(3)\n",
    "    print(\"end add data\")"
   ]
  },
  {
   "cell_type": "code",
   "execution_count": 9,
   "metadata": {},
   "outputs": [
    {
     "name": "stdout",
     "output_type": "stream",
     "text": [
      "start\n",
      "end add data\n"
     ]
    }
   ],
   "source": [
    "a = bar('a', recursive=True)"
   ]
  },
  {
   "cell_type": "code",
   "execution_count": 10,
   "metadata": {},
   "outputs": [],
   "source": [
    "a"
   ]
  },
  {
   "cell_type": "code",
   "execution_count": 15,
   "metadata": {},
   "outputs": [],
   "source": [
    "import urllib\n",
    "\n",
    "def internet_on():\n",
    "    try:\n",
    "        urllib.urlopen('http://216.58.192.142', timeout=1)\n",
    "        return True\n",
    "    except urllib2.URLError as err: \n",
    "        return False"
   ]
  },
  {
   "cell_type": "raw",
   "metadata": {},
   "source": [
    "internet_on()"
   ]
  },
  {
   "cell_type": "markdown",
   "metadata": {},
   "source": [
    "# big buck bunny problem"
   ]
  },
  {
   "cell_type": "code",
   "execution_count": 1,
   "metadata": {},
   "outputs": [],
   "source": [
    "from torrent.tracker import udp_request, tracker_manager\n",
    "from torrent.torrent_file import generate_torrent_file\n",
    "from torrent.peer_manager import Peer_manager\n",
    "path = '../test_files/file4.torrent'\n",
    "torrent_file = generate_torrent_file(path)\n",
    "peer_manager = Peer_manager()\n"
   ]
  },
  {
   "cell_type": "code",
   "execution_count": 2,
   "metadata": {},
   "outputs": [
    {
     "name": "stdout",
     "output_type": "stream",
     "text": [
      "2020-03-31 00:57:15,755 - torrent.tracker - DEBUG - 42 try to connect tracker(udp:explodie.org:6969)\t\n",
      "2020-03-31 00:57:15,772 - torrent.tracker - DEBUG - 45 connect to socket succssed\t\n",
      "2020-03-31 00:57:15,773 - torrent.tracker - DEBUG - 42 try to connect tracker(udp:tracker.leechers-paradise.org:6969)\t\n",
      "2020-03-31 00:57:15,789 - torrent.tracker - DEBUG - 45 connect to socket succssed\t\n",
      "2020-03-31 00:57:15,789 - torrent.tracker - DEBUG - 42 try to connect tracker(udp:tracker.empire-js.us:1337)\t\n",
      "2020-03-31 00:57:15,790 - torrent.tracker - DEBUG - 42 try to connect tracker(udp:tracker.opentrackr.org:1337)\t\n",
      "2020-03-31 00:57:15,816 - torrent.tracker - DEBUG - 45 connect to socket succssed\t\n",
      "2020-03-31 00:57:15,806 - torrent.tracker - DEBUG - 56 start connection response\t\n",
      "2020-03-31 00:57:15,831 - torrent.tracker - DEBUG - 128 start get action code\t\n",
      "2020-03-31 00:57:15,814 - torrent.tracker - DEBUG - 45 connect to socket succssed\t\n",
      "2020-03-31 00:57:15,799 - torrent.tracker - DEBUG - 56 start connection response\t\n",
      "2020-03-31 00:57:15,846 - torrent.tracker - DEBUG - 128 start get action code\t\n",
      "2020-03-31 00:57:15,837 - torrent.tracker - DEBUG - 56 start connection response\t\n",
      "2020-03-31 00:57:15,848 - torrent.tracker - DEBUG - 128 start get action code\t\n",
      "2020-03-31 00:57:15,807 - torrent.tracker - DEBUG - 42 try to connect tracker(udp:tracker.coppersurfer.tk:6969)\t\n",
      "2020-03-31 00:57:15,856 - torrent.tracker - DEBUG - 45 connect to socket succssed\t\n",
      "2020-03-31 00:57:15,901 - torrent.tracker - DEBUG - 56 start connection response\t\n",
      "2020-03-31 00:57:15,903 - torrent.tracker - DEBUG - 128 start get action code\t\n",
      "2020-03-31 00:57:15,902 - torrent.tracker - DEBUG - 56 start connection response\t\n",
      "2020-03-31 00:57:15,912 - torrent.tracker - DEBUG - 128 start get action code\t\n",
      "2020-03-31 00:57:15,920 - torrent.tracker - DEBUG - 132 connet code got from server\t\n",
      "2020-03-31 00:57:15,920 - torrent.tracker - DEBUG - 132 connet code got from server\t\n",
      "2020-03-31 00:57:15,930 - torrent.tracker - DEBUG - 128 start get action code\t\n",
      "2020-03-31 00:57:15,938 - torrent.tracker - DEBUG - 128 start get action code\t\n",
      "2020-03-31 00:57:16,010 - torrent.tracker - DEBUG - 132 connet code got from server\t\n",
      "2020-03-31 00:57:16,012 - torrent.tracker - DEBUG - 141 announce code got from server\t\n",
      "2020-03-31 00:57:16,024 - torrent.tracker - INFO - 112 peers add to peer_manager and go to sleep for 1692 seconds\t\n",
      "2020-03-31 00:57:16,020 - torrent.tracker - DEBUG - 128 start get action code\t\n",
      "2020-03-31 00:57:16,049 - torrent.tracker - DEBUG - 141 announce code got from server\t\n",
      "2020-03-31 00:57:16,050 - torrent.tracker - INFO - 112 peers add to peer_manager and go to sleep for 1789 seconds\t\n",
      "2020-03-31 00:57:16,227 - torrent.tracker - DEBUG - 153 error string from server\t\n",
      "2020-03-31 00:57:16,228 - torrent.tracker - WARNING - 98 [Big Buck Bunny, tracker(udp:explodie.org:6969)]server response with error- unknown option type\u0000\t\n",
      "2020-03-31 00:57:20,240 - torrent.tracker - DEBUG - 42 try to connect tracker(udp:explodie.org:6969)\t\n",
      "2020-03-31 00:57:20,242 - torrent.tracker - DEBUG - 45 connect to socket succssed\t\n",
      "2020-03-31 00:57:20,267 - torrent.tracker - DEBUG - 56 start connection response\t\n",
      "2020-03-31 00:57:20,284 - torrent.tracker - DEBUG - 128 start get action code\t\n",
      "2020-03-31 00:57:20,473 - torrent.tracker - DEBUG - 132 connet code got from server\t\n",
      "2020-03-31 00:57:20,479 - torrent.tracker - DEBUG - 128 start get action code\t\n",
      "2020-03-31 00:57:20,684 - torrent.tracker - DEBUG - 153 error string from server\t\n",
      "2020-03-31 00:57:20,685 - torrent.tracker - WARNING - 98 [Big Buck Bunny, tracker(udp:explodie.org:6969)]server response with error- unknown option type\u0000\t\n",
      "2020-03-31 00:57:40,692 - torrent.tracker - DEBUG - 42 try to connect tracker(udp:explodie.org:6969)\t\n",
      "2020-03-31 00:57:40,694 - torrent.tracker - DEBUG - 45 connect to socket succssed\t\n",
      "2020-03-31 00:57:40,717 - torrent.tracker - DEBUG - 56 start connection response\t\n",
      "2020-03-31 00:57:40,729 - torrent.tracker - DEBUG - 128 start get action code\t\n",
      "2020-03-31 00:57:40,918 - torrent.tracker - DEBUG - 132 connet code got from server\t\n",
      "2020-03-31 00:57:40,923 - torrent.tracker - DEBUG - 128 start get action code\t\n",
      "2020-03-31 00:57:41,123 - torrent.tracker - DEBUG - 153 error string from server\t\n",
      "2020-03-31 00:57:41,124 - torrent.tracker - WARNING - 98 [Big Buck Bunny, tracker(udp:explodie.org:6969)]server response with error- unknown option type\u0000\t\n"
     ]
    }
   ],
   "source": [
    "th = tracker_manager(torrent_file, peer_manager)"
   ]
  },
  {
   "cell_type": "code",
   "execution_count": 4,
   "metadata": {
    "scrolled": true
   },
   "outputs": [
    {
     "data": {
      "text/plain": [
       "38"
      ]
     },
     "execution_count": 4,
     "metadata": {},
     "output_type": "execute_result"
    },
    {
     "name": "stdout",
     "output_type": "stream",
     "text": [
      "2020-03-31 00:59:05,152 - torrent.tracker - DEBUG - 42 try to connect tracker(udp:explodie.org:6969)\t\n",
      "2020-03-31 00:59:05,164 - torrent.tracker - DEBUG - 45 connect to socket succssed\t\n",
      "2020-03-31 00:59:05,182 - torrent.tracker - DEBUG - 56 start connection response\t\n",
      "2020-03-31 00:59:05,194 - torrent.tracker - DEBUG - 128 start get action code\t\n",
      "2020-03-31 00:59:05,382 - torrent.tracker - DEBUG - 132 connet code got from server\t\n",
      "2020-03-31 00:59:05,390 - torrent.tracker - DEBUG - 128 start get action code\t\n",
      "2020-03-31 00:59:05,589 - torrent.tracker - DEBUG - 153 error string from server\t\n",
      "2020-03-31 00:59:05,590 - torrent.tracker - WARNING - 98 [Big Buck Bunny, tracker(udp:explodie.org:6969)]server response with error- unknown option type\u0000\t\n",
      "2020-03-31 01:04:45,700 - torrent.tracker - DEBUG - 42 try to connect tracker(udp:explodie.org:6969)\t\n",
      "2020-03-31 01:04:45,710 - torrent.tracker - DEBUG - 45 connect to socket succssed\t\n",
      "2020-03-31 01:04:45,730 - torrent.tracker - DEBUG - 56 start connection response\t\n",
      "2020-03-31 01:04:45,741 - torrent.tracker - DEBUG - 128 start get action code\t\n",
      "2020-03-31 01:04:45,930 - torrent.tracker - DEBUG - 132 connet code got from server\t\n",
      "2020-03-31 01:04:45,937 - torrent.tracker - DEBUG - 128 start get action code\t\n",
      "2020-03-31 01:04:46,137 - torrent.tracker - DEBUG - 153 error string from server\t\n",
      "2020-03-31 01:04:46,139 - torrent.tracker - WARNING - 98 [Big Buck Bunny, tracker(udp:explodie.org:6969)]server response with error- unknown option type\u0000\t\n",
      "2020-03-31 01:25:28,140 - torrent.tracker - DEBUG - 128 start get action code\t\n",
      "2020-03-31 01:25:28,223 - torrent.tracker - DEBUG - 141 announce code got from server\t\n",
      "2020-03-31 01:25:28,230 - torrent.tracker - INFO - 112 peers add to peer_manager and go to sleep for 1959 seconds\t\n",
      "2020-03-31 01:27:05,175 - torrent.tracker - DEBUG - 128 start get action code\t\n",
      "2020-03-31 01:27:05,293 - torrent.tracker - DEBUG - 141 announce code got from server\t\n",
      "2020-03-31 01:27:05,298 - torrent.tracker - INFO - 112 peers add to peer_manager and go to sleep for 1653 seconds\t\n",
      "2020-03-31 01:27:30,248 - torrent.tracker - DEBUG - 42 try to connect tracker(udp:explodie.org:6969)\t\n",
      "2020-03-31 01:27:30,250 - torrent.tracker - DEBUG - 45 connect to socket succssed\t\n",
      "2020-03-31 01:27:30,264 - torrent.tracker - DEBUG - 56 start connection response\t\n",
      "2020-03-31 01:27:30,272 - torrent.tracker - DEBUG - 128 start get action code\t\n",
      "2020-03-31 01:27:30,464 - torrent.tracker - DEBUG - 132 connet code got from server\t\n",
      "2020-03-31 01:27:30,470 - torrent.tracker - DEBUG - 128 start get action code\t\n",
      "2020-03-31 01:27:30,668 - torrent.tracker - DEBUG - 153 error string from server\t\n",
      "2020-03-31 01:27:30,669 - torrent.tracker - WARNING - 98 [Big Buck Bunny, tracker(udp:explodie.org:6969)]server response with error- unknown option type\u0000\t\n",
      "2020-03-31 01:54:38,449 - torrent.tracker - DEBUG - 128 start get action code\t\n",
      "2020-03-31 01:57:30,772 - torrent.tracker - DEBUG - 42 try to connect tracker(udp:explodie.org:6969)\t\n",
      "2020-03-31 01:57:30,782 - torrent.tracker - DEBUG - 45 connect to socket succssed\t\n",
      "2020-03-31 01:57:30,812 - torrent.tracker - DEBUG - 56 start connection response\t\n",
      "2020-03-31 01:57:30,825 - torrent.tracker - DEBUG - 128 start get action code\t\n",
      "2020-03-31 01:57:31,014 - torrent.tracker - DEBUG - 132 connet code got from server\t\n",
      "2020-03-31 01:57:31,030 - torrent.tracker - DEBUG - 128 start get action code\t\n",
      "2020-03-31 01:57:31,235 - torrent.tracker - DEBUG - 153 error string from server\t\n",
      "2020-03-31 01:57:31,239 - torrent.tracker - WARNING - 98 [Big Buck Bunny, tracker(udp:explodie.org:6969)]server response with error- unknown option type\u0000\t\n",
      "2020-03-31 01:58:07,351 - torrent.tracker - DEBUG - 128 start get action code\t\n",
      "2020-03-31 01:58:07,433 - torrent.tracker - DEBUG - 141 announce code got from server\t\n",
      "2020-03-31 01:58:07,433 - torrent.tracker - INFO - 112 peers add to peer_manager and go to sleep for 1671 seconds\t\n",
      "2020-03-31 02:25:58,600 - torrent.tracker - DEBUG - 128 start get action code\t\n",
      "2020-03-31 02:25:58,831 - torrent.tracker - DEBUG - 141 announce code got from server\t\n",
      "2020-03-31 02:25:58,832 - torrent.tracker - INFO - 112 peers add to peer_manager and go to sleep for 1864 seconds\t\n",
      "2020-03-31 02:27:31,353 - torrent.tracker - DEBUG - 42 try to connect tracker(udp:explodie.org:6969)\t\n",
      "2020-03-31 02:27:31,353 - torrent.tracker - DEBUG - 45 connect to socket succssed\t\n",
      "2020-03-31 02:27:31,356 - torrent.tracker - DEBUG - 56 start connection response\t\n",
      "2020-03-31 02:27:31,357 - torrent.tracker - DEBUG - 128 start get action code\t\n",
      "2020-03-31 02:27:31,657 - torrent.tracker - DEBUG - 132 connet code got from server\t\n",
      "2020-03-31 02:27:31,660 - torrent.tracker - DEBUG - 128 start get action code\t\n",
      "2020-03-31 02:27:31,932 - torrent.tracker - DEBUG - 153 error string from server\t\n",
      "2020-03-31 02:27:31,932 - torrent.tracker - WARNING - 98 [Big Buck Bunny, tracker(udp:explodie.org:6969)]server response with error- unknown option type\u0000\t\n",
      "2020-03-31 02:57:03,050 - torrent.tracker - DEBUG - 128 start get action code\t\n",
      "2020-03-31 02:57:03,212 - torrent.tracker - DEBUG - 141 announce code got from server\t\n",
      "2020-03-31 02:57:03,213 - torrent.tracker - INFO - 112 peers add to peer_manager and go to sleep for 1936 seconds\t\n",
      "2020-03-31 02:57:32,016 - torrent.tracker - DEBUG - 42 try to connect tracker(udp:explodie.org:6969)\t\n",
      "2020-03-31 02:57:32,017 - torrent.tracker - DEBUG - 45 connect to socket succssed\t\n",
      "2020-03-31 02:57:32,019 - torrent.tracker - DEBUG - 56 start connection response\t\n",
      "2020-03-31 02:57:32,020 - torrent.tracker - DEBUG - 128 start get action code\t\n",
      "2020-03-31 02:57:32,347 - torrent.tracker - DEBUG - 132 connet code got from server\t\n",
      "2020-03-31 02:57:32,350 - torrent.tracker - DEBUG - 128 start get action code\t\n",
      "2020-03-31 02:57:32,676 - torrent.tracker - DEBUG - 153 error string from server\t\n",
      "2020-03-31 02:57:32,677 - torrent.tracker - WARNING - 98 [Big Buck Bunny, tracker(udp:explodie.org:6969)]server response with error- unknown option type\u0000\t\n"
     ]
    }
   ],
   "source": []
  },
  {
   "cell_type": "code",
   "execution_count": null,
   "metadata": {},
   "outputs": [],
   "source": []
  }
 ],
 "metadata": {
  "kernelspec": {
   "display_name": "Python 3",
   "language": "python",
   "name": "python3"
  },
  "language_info": {
   "codemirror_mode": {
    "name": "ipython",
    "version": 3
   },
   "file_extension": ".py",
   "mimetype": "text/x-python",
   "name": "python",
   "nbconvert_exporter": "python",
   "pygments_lexer": "ipython3",
   "version": "3.6.8"
  }
 },
 "nbformat": 4,
 "nbformat_minor": 2
}
